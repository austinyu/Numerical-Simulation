{
 "cells": [
  {
   "cell_type": "code",
   "execution_count": 6,
   "metadata": {},
   "outputs": [
    {
     "name": "stdout",
     "output_type": "stream",
     "text": [
      "Populating the interactive namespace from numpy and matplotlib\n"
     ]
    }
   ],
   "source": [
    "%pylab inline"
   ]
  },
  {
   "cell_type": "markdown",
   "metadata": {},
   "source": [
    "# Mechanics Lab 3 -- Projectile Motion with Air Resistance\n",
    "\n",
    "This lab builds upon the numerical integration code your wrote in the previous lab. This time, though, you will include drag in your calculations of projectile motion.\n",
    "\n",
    "*** If you have not yet completed Lab 2, please do so now.***\n",
    "\n",
    "## Objectives\n",
    "In this lab, you will \n",
    "\n",
    "* include linear and quadratic drag in your equations of motion for a projectile,\n",
    "* validate your code by comparing your numerical solution to the analytic solution in several special cases,and\n",
    "* calculate the mechanical energy loss due to drag."
   ]
  },
  {
   "cell_type": "markdown",
   "metadata": {},
   "source": [
    "## Improved Euler Numerical Integration\n",
    "\n",
    "#### Exercise 3.1\n",
    "\n",
    "Start by copying your code from the previous lab to solve projectile motion without air resistance using the improved Euler method into the cell below. Make sure that it still produces reasonable results."
   ]
  },
  {
   "cell_type": "code",
   "execution_count": 36,
   "metadata": {},
   "outputs": [
    {
     "name": "stdout",
     "output_type": "stream",
     "text": [
      "range (for b = 0.05, c = 0.0, m = 0.5 kg) =81.70\n",
      "mex height (for b = 0.05, c = 0.0, m = 0.5 kg) = 20.39\n"
     ]
    },
    {
     "data": {
      "text/plain": [
       "Text(0, 0.5, 'height (m)')"
      ]
     },
     "execution_count": 36,
     "metadata": {},
     "output_type": "execute_result"
    },
    {
     "data": {
      "image/png": "[encoded data removed]",
      "text/plain": [
       "<Figure size 432x288 with 1 Axes>"
      ]
     },
     "metadata": {
      "needs_background": "light"
     },
     "output_type": "display_data"
    }
   ],
   "source": [
    "# Exercise 3.1 Projectile motion, improved Euler\n",
    "# No damping, numerical integration \n",
    "\n",
    "# Exercise 2.9 Projectile motion, improved Euler\n",
    "# No damping, numerical integration \n",
    "\n",
    "# Here we define the variables that will be used throughout the integration\n",
    "g = 9.8 #the acceleration due to gravity.  By declaring it here it will be available anywhere in the rest of the notebook\n",
    "m = 1 # the mass of the projectile\n",
    "\n",
    "\n",
    "\n",
    "tstart = 0 #starting time\n",
    "tend = 15 #ending time\n",
    "N = 3000 # #steps\n",
    "h = (tend-tstart)/N #  h is the time step, deltat\n",
    "tpts = arange(tstart,tend,h)\n",
    "\n",
    "x0 = 0 #initial x position\n",
    "y0 = 0 #initial y position\n",
    "vx0 = 20 #initial x-component of the velocity\n",
    "vy0 = 20 #initial y-component of the velocity\n",
    "rinit = array([x0,vx0,y0,vy0],float)\n",
    "\n",
    "xpts = []  #this is an empty list that will hold x solutions\n",
    "vxpts = []  #this will hold vx solutions\n",
    "ypts = []  #y\n",
    "vypts = [] #vy\n",
    "\n",
    "\n",
    "\n",
    "r = rinit.copy()  #make a *copy* of rinit.  This leaves rinit unchanged, but allows r to take on different values\n",
    "\n",
    "def deriv(r,t):\n",
    "    x = r[0]  #first, extract the variables from the r-list\n",
    "    vx = r[1]\n",
    "    y = r[2]\n",
    "    vy = r[3]\n",
    "    dxdt = vx #now create the derivatives.  Note:  by definition dxdt = vx\n",
    "    dvxdt = 0\n",
    "    dydt = vy\n",
    "    dvydt = - g\n",
    "    return array([dxdt, dvxdt, dydt, dvydt],float)\n",
    "\n",
    "#The engine:  initialize values, then step through with simple Euler method (uses a 1st-order Taylor series)\n",
    "for t in tpts:  #this *for* loop sequentially takes on all the elements of tpts, first to last\n",
    "    xpts.append(r[0])  #extend the list by tacking the latest x on to the end of it\n",
    "    vxpts.append(r[1]) #starting from r which is originally a copy of rinit\n",
    "    ypts.append(r[2])\n",
    "    vypts.append(r[3])\n",
    "    \n",
    "    \n",
    "    k1= (h/2)*deriv(r,t) # evaluate the increment on the half step, i.e. the midpoint function at the half step.\n",
    "    r += h*deriv(r+k1,t) # this is the whole step after sniffing out the derivatives at the midpoint\n",
    "    \n",
    "        \n",
    "    if (t > 0.0)&(r[2]<=0.0):  # a test to see when to cut off the solution\n",
    "                               # (the & symbol indicates a logical AND:  both conditions need to be true)\n",
    "        tmax = t               # by noting when the projectile hits the ground\n",
    "      \n",
    "        trange = r[0]           #store the last x position in the variable named range\n",
    "        break  #quit out of the loop\n",
    "\n",
    "        \n",
    "        \n",
    "height = g*(tmax/2)**2/2\n",
    "\n",
    "        \n",
    "print(f\"range (for b = 0.05, c = 0.0, m = 0.5 kg) ={trange:.2f}\")\n",
    "print(f\"mex height (for b = 0.05, c = 0.0, m = 0.5 kg) = {height:.2f}\")\n",
    "\n",
    "\n",
    "figure()  #this just gets us a new figure, otherwise we'll keep plotting atop the previous one\n",
    "\n",
    "plot(xpts,ypts, color='red')\n",
    "\n",
    "title( \"Numerical Projectile Motion\")            \n",
    "xlabel(\"distance (m)\")\n",
    "ylabel(\"height (m)\")\n"
   ]
  },
  {
   "cell_type": "markdown",
   "metadata": {},
   "source": [
    "## Projectile Motion with Drag\n",
    "\n",
    "In order to include drag force, you will need to adjust your deriv function to include velocity-dependent damping coefficients of the form:\n",
    "    \n",
    "$ \\vec{F}_{drag} = -b \\vec{v} - c v^2 \\hat{v}$\n",
    "\n",
    "## Linear Drag\n",
    "\n",
    "#### Exercise 3.2\n",
    "\n",
    "You will start with the simpler and analytically-solvable case of just linear drag (i.e., c = 0). Redo your Improved Euler projectile problem with the same initial conditions* as before to show the trajectory and find the range (over level ground) for b = 0.05, and c = 0.0.  Assume that the projectile has mass m = 0.5 kg.\n",
    "\n",
    "##### Drag-restricted range (for b =  0.05, c = 0.0, m = 0.5 kg) = \n",
    "\n",
    "\\* tStart = 0.0s, tEnd = 15.0s, nSteps = 3000 , $ \\vec{r}(0)=(0,0)$m and $\\vec{v} (0) = (20,20)$m/s.\n",
    "\n",
    "*(I get approximately 64 m.  Show your result to 4 significant figures.)*\n",
    "\n",
    "How is the range and height of the projectile affected by the inclusion of linear drag? Explain ***here***. \n",
    "\n",
    "\n",
    "**Without air drag, the range is 81.7 meters and max height is 20.39 meters. With linear air drag, the range is 63.7 meters and the max height is 18.02 meters. So the air drag reduce the range and the max height of the projectile. Air drag convert the kinetic energy into internal energy, so the part of the initial energy is converted to the internal energy instead of converting all of the energy into potential energy. So the range and the max height is reduced.**"
   ]
  },
  {
   "cell_type": "code",
   "execution_count": 56,
   "metadata": {
    "scrolled": true
   },
   "outputs": [
    {
     "name": "stdout",
     "output_type": "stream",
     "text": [
      "Drag-restricted range (for b = 0.05, c = 0.0, m = 0.5 kg) =63.77\n",
      "Drag-restricted mex height (for b = 0.05, c = 0.0, m = 0.5 kg) = 18.02\n"
     ]
    },
    {
     "data": {
      "text/plain": [
       "Text(0, 0.5, 'height (m)')"
      ]
     },
     "execution_count": 56,
     "metadata": {},
     "output_type": "execute_result"
    },
    {
     "data": {
      "image/png": "[encoded data removed]",
      "text/plain": [
       "<Figure size 432x288 with 1 Axes>"
      ]
     },
     "metadata": {
      "needs_background": "light"
     },
     "output_type": "display_data"
    }
   ],
   "source": [
    "# <Exercise 3.2 Solution for projectile motion with linear drag, using improved Euler.>\n",
    "\n",
    "g = 9.8 #the acceleration due to gravity.  By declaring it here it will be available anywhere in the rest of the notebook\n",
    "m = 0.5 # the mass of the projectile\n",
    "\n",
    "\n",
    "\n",
    "tstart = 0 #starting time\n",
    "tend = 15 #ending time\n",
    "N = 3000 # #steps\n",
    "h = (tend-tstart)/N #  h is the time step, deltat\n",
    "tpts = arange(tstart,tend,h)\n",
    "\n",
    "x0 = 0 #initial x position\n",
    "y0 = 0 #initial y position\n",
    "vx0 = 20 #initial x-component of the velocity\n",
    "vy0 = 20 #initial y-component of the velocity\n",
    "rinit = array([x0,vx0,y0,vy0],float)\n",
    "\n",
    "xpts = []  #this is an empty list that will hold x solutions\n",
    "vxpts = []  #this will hold vx solutions\n",
    "ypts = []  #y\n",
    "vypts = [] #vy\n",
    "\n",
    "b = 0.05\n",
    "c = 0.0\n",
    "\n",
    "\n",
    "r = rinit.copy()  #make a *copy* of rinit.  This leaves rinit unchanged, but allows r to take on different values\n",
    "\n",
    "def deriv(r,t):\n",
    "    x = r[0]  #first, extract the variables from the r-list\n",
    "    vx = r[1]\n",
    "    y = r[2]\n",
    "    vy = r[3]\n",
    "    dxdt = vx #now create the derivatives.  Note:  by definition dxdt = vx\n",
    "    dvxdt = -b*vx/m-c*(vx**2+vy**2)**0.5*vx/m \n",
    "    dydt = vy\n",
    "    dvydt = - g - b*vy/m-c*(vx**2+vy**2)**0.5*vy/m \n",
    "    return array([dxdt, dvxdt, dydt, dvydt],float)\n",
    "\n",
    "#The engine:  initialize values, then step through with simple Euler method (uses a 1st-order Taylor series)\n",
    "for t in tpts:  #this *for* loop sequentially takes on all the elements of tpts, first to last\n",
    "    xpts.append(r[0])  #extend the list by tacking the latest x on to the end of it\n",
    "    vxpts.append(r[1]) #starting from r which is originally a copy of rinit\n",
    "    ypts.append(r[2])\n",
    "    vypts.append(r[3])\n",
    "    \n",
    "    \n",
    "    k1= (h/2)*deriv(r,t) # evaluate the increment on the half step, i.e. the midpoint function at the half step.\n",
    "    r += h*deriv(r+k1,t) # this is the whole step after sniffing out the derivatives at the midpoint\n",
    "    \n",
    "        \n",
    "    if (t > 0.0)&(r[2]<=0.0):  # a test to see when to cut off the solution\n",
    "                               # (the & symbol indicates a logical AND:  both conditions need to be true)\n",
    "        tmax = t               # by noting when the projectile hits the ground\n",
    "      \n",
    "        trange = r[0]           #store the last x position in the variable named range\n",
    "        break  #quit out of the loop\n",
    "        \n",
    "        \n",
    "height = g*(tmax/2)**2/2\n",
    "\n",
    "        \n",
    "print(f\"Drag-restricted range (for b = 0.05, c = 0.0, m = 0.5 kg) ={trange:.2f}\")\n",
    "print(f\"Drag-restricted mex height (for b = 0.05, c = 0.0, m = 0.5 kg) = {height:.2f}\")\n",
    "\n",
    "\n",
    "figure()  #this just gets us a new figure, otherwise we'll keep plotting atop the previous one\n",
    "\n",
    "plot(xpts,ypts, color='red')\n",
    "\n",
    "title( \"Numerical Projectile Motion\")            \n",
    "xlabel(\"distance (m)\")\n",
    "ylabel(\"height (m)\")\n"
   ]
  },
  {
   "cell_type": "markdown",
   "metadata": {},
   "source": [
    "## Quadratic Drag\n",
    "\n",
    "### One-dimensional motion\n",
    "\n",
    "Next, you will test your quadratic-drag code with two different sets of initial conditions. As you do this, try to determine the minimum amount of code you will need to copy into a new cell. For instance, since your deriv function will not be changing, there is no need to copy it.\n",
    "\n",
    "#### Exercise 3.3\n",
    "\n",
    "First you will model a rock dropped vertically from a cliff. Modify your deriv function to include quadratic but not linear drag. Let $b$ = 0 and $c$ = 0.002; keep $m$ = 0.5 kg. Since it is only possible to find an analytic solution with quadratic drag for 1-dimensional motion (why is that?), start by using the following initial conditions: $ \\vec{r}(0)=(0, 400)$m and $\\vec{v} (0) = (0,0)$m/s. Since the motion will be in one dimension, plot $y$ vs. $t$ rather than vs. $x$.\n",
    "\n",
    "---\n",
    "We can only solve the numerical solution for the motion because the differential equation is not solvable by analytical methods. The following is the differential equation for 1d motion with quadratic drag. \n",
    "\n",
    "$$\n",
    "\\frac{dv_y}{dt}=-g-\\frac{cv_y^2}{m}\n",
    "$$"
   ]
  },
  {
   "cell_type": "code",
   "execution_count": 71,
   "metadata": {},
   "outputs": [
    {
     "name": "stdout",
     "output_type": "stream",
     "text": [
      "Drag-restricted range (for b = 0, c = 0.002, m = 0.5 kg) =0.00\n",
      "Drag-restricted max height (for b = 0, c = 0.002, m = 0.5 kg) = 162.71\n"
     ]
    },
    {
     "data": {
      "text/plain": [
       "Text(0, 0.5, 'height (m)')"
      ]
     },
     "execution_count": 71,
     "metadata": {},
     "output_type": "execute_result"
    },
    {
     "data": {
      "image/png": "[encoded data removed]",
      "text/plain": [
       "<Figure size 432x288 with 1 Axes>"
      ]
     },
     "metadata": {
      "needs_background": "light"
     },
     "output_type": "display_data"
    }
   ],
   "source": [
    "# <Exercise 3.3 Solution for projectile motion with quadratic drag, using improved Euler.>\n",
    "\n",
    "g = 9.8 #the acceleration due to gravity.  By declaring it here it will be available anywhere in the rest of the notebook\n",
    "m = 0.5 # the mass of the projectile\n",
    "\n",
    "\n",
    "\n",
    "tstart = 0 #starting time\n",
    "tend = 15 #ending time\n",
    "N = 3000 # #steps\n",
    "h = (tend-tstart)/N #  h is the time step, deltat\n",
    "tpts = arange(tstart,tend,h)\n",
    "\n",
    "x0 = 0 #initial x position\n",
    "y0 = 400 #initial y position\n",
    "vx0 =0 #initial x-component of the velocity\n",
    "vy0 =0 #initial y-component of the velocity\n",
    "rinit = array([x0,vx0,y0,vy0],float)\n",
    "\n",
    "xpts = []  #this is an empty list that will hold x solutions\n",
    "vxpts = []  #this will hold vx solutions\n",
    "ypts = []  #y\n",
    "vypts = [] #vy\n",
    "\n",
    "r = rinit.copy()\n",
    "\n",
    "b = 0.0\n",
    "c = 0.002\n",
    "#The engine:  initialize values, then step through with simple Euler method (uses a 1st-order Taylor series)\n",
    "for t in tpts:  #this *for* loop sequentially takes on all the elements of tpts, first to last\n",
    "    xpts.append(r[0])  #extend the list by tacking the latest x on to the end of it\n",
    "    vxpts.append(r[1]) #starting from r which is originally a copy of rinit\n",
    "    ypts.append(r[2])\n",
    "    vypts.append(r[3])\n",
    "    \n",
    "    k1= (h/2)*deriv(r,t) # evaluate the increment on the half step, i.e. the midpoint function at the half step.\n",
    "    r += h*deriv(r+k1,t) # this is the whole step after sniffing out the derivatives at the midpoint\n",
    "    if (t > 0.0)&(r[2]<=0.0):  # a test to see when to cut off the solution\n",
    "                               # (the & symbol indicates a logical AND:  both conditions need to be true)\n",
    "        tmax = t               # by noting when the projectile hits the ground\n",
    "      \n",
    "        trange = r[0]           #store the last x position in the variable named range\n",
    "        break  #quit out of the loop\n",
    "        \n",
    "        \n",
    "height = g*(tmax/2)**2/2\n",
    "\n",
    "        \n",
    "print(f\"Drag-restricted range (for b = 0, c = 0.002, m = 0.5 kg) ={trange:.2f}\")\n",
    "print(f\"Drag-restricted max height (for b = 0, c = 0.002, m = 0.5 kg) = {height:.2f}\")\n",
    "\n",
    "\n",
    "figure()  #this just gets us a new figure, otherwise we'll keep plotting atop the previous one\n",
    "\n",
    "plot(tpts[:len(ypts)],ypts, color='red')\n",
    "grid(True)\n",
    "title( \"Numerical Projectile Motion\")            \n",
    "xlabel(\"time (s)\")\n",
    "ylabel(\"height (m)\")"
   ]
  },
  {
   "cell_type": "markdown",
   "metadata": {},
   "source": [
    "#### Exercise 3.4\n",
    "\n",
    "What terminal velocity would you expect the rock to reach?\n",
    "\n",
    "The terminal velocity using analytical method is -49.5 meters per second. \n",
    "\n",
    "\n",
    "##### Expected terminal velocity:\n",
    "\n",
    "Plot $v_y$ vs. $t$ and estimate the terminal velocity. Are your answers consistent with each other? Explain ***here***. \n",
    "\n",
    "\n",
    "The answers are consistent, because terminal velocity predicted by analyzing is -49.50 meters per second and terminal velocity predicted by graphing is -48.48 meters per second. There is an error of 2%. \n",
    "\n"
   ]
  },
  {
   "cell_type": "code",
   "execution_count": 72,
   "metadata": {},
   "outputs": [
    {
     "name": "stdout",
     "output_type": "stream",
     "text": [
      "terminal velocity predicted by analyzing: -49.50\n",
      "terminal velocity predicted by graphing: -48.48\n"
     ]
    },
    {
     "data": {
      "image/png": "[encoded data removed]",
      "text/plain": [
       "<Figure size 432x288 with 1 Axes>"
      ]
     },
     "metadata": {
      "needs_background": "light"
     },
     "output_type": "display_data"
    }
   ],
   "source": [
    "# <Exercise 3.4 v vs. t for projectile motion with quadratic drag, using improved Euler.>\n",
    "\n",
    "figure()  #this just gets us a new figure, otherwise we'll keep plotting atop the previous one\n",
    "\n",
    "plot(tpts[:len(vypts)],vypts, color='red')\n",
    "\n",
    "title( \"Numerical Projectile Motion\")            \n",
    "xlabel(\"time (s)\")\n",
    "ylabel(\"velocity (m/s)\")\n",
    "vter_ana = -(m*g/c)**0.5\n",
    "\n",
    "print(f\"terminal velocity predicted by analyzing: {vter_ana:.2f}\")\n",
    "print(f\"terminal velocity predicted by graphing: {vypts[-1]:.2f}\")"
   ]
  },
  {
   "cell_type": "markdown",
   "metadata": {},
   "source": [
    "\n",
    "#### Exercise 3.5\n",
    "\n",
    "This is the situation where the rock is thrown vertically up into the air. Calculate and plot $y$ vs. $t$ and $v_y$ vs. $t$ for the initial conditions: $ \\vec{r}(0)=(0,0)$m and $\\vec{v} (0) = (0,28)$m/s. Find how long the rock remains in the air. Keep all other parameters the same as in exercise 3.3. \n",
    "\n",
    "##### Time in air (for b =  0, c = 0.002, m = 0.5 kg) = \n",
    "\n",
    "*I get approximately 5 s.  Show your result to 3 significant figures.*"
   ]
  },
  {
   "cell_type": "code",
   "execution_count": 74,
   "metadata": {},
   "outputs": [
    {
     "name": "stdout",
     "output_type": "stream",
     "text": [
      "Drag-restricted range (for b = 0, c = 0.002, m = 0.5 kg) =0.00\n",
      "Drag-restricted max height (for b = 0, c = 0.002, m = 0.5 kg) = 34.67\n",
      "Time in air (for b = 0, c = 0.002, m = 0.5 kg) =5.3\n"
     ]
    },
    {
     "data": {
      "text/plain": [
       "Text(0, 0.5, 'speed (m/s)')"
      ]
     },
     "execution_count": 74,
     "metadata": {},
     "output_type": "execute_result"
    },
    {
     "data": {
      "image/png": "[encoded data removed]",
      "text/plain": [
       "<Figure size 432x288 with 1 Axes>"
      ]
     },
     "metadata": {
      "needs_background": "light"
     },
     "output_type": "display_data"
    },
    {
     "data": {
      "image/png": "[encoded data removed]",
      "text/plain": [
       "<Figure size 432x288 with 1 Axes>"
      ]
     },
     "metadata": {
      "needs_background": "light"
     },
     "output_type": "display_data"
    }
   ],
   "source": [
    "# <Exercise 3.5, projectile motion with quadratic drag, using improved Euler.>\n",
    "\n",
    "\n",
    "g = 9.8 #the acceleration due to gravity.  By declaring it here it will be available anywhere in the rest of the notebook\n",
    "m = 0.5 # the mass of the projectile\n",
    "\n",
    "\n",
    "\n",
    "tstart = 0 #starting time\n",
    "tend = 15 #ending time\n",
    "N = 3000 # #steps\n",
    "h = (tend-tstart)/N #  h is the time step, deltat\n",
    "tpts = arange(tstart,tend,h)\n",
    "\n",
    "x0 = 0 #initial x position\n",
    "y0 = 0 #initial y position\n",
    "vx0 =0 #initial x-component of the velocity\n",
    "vy0 =28 #initial y-component of the velocity\n",
    "rinit = array([x0,vx0,y0,vy0],float)\n",
    "\n",
    "xpts = []  #this is an empty list that will hold x solutions\n",
    "vxpts = []  #this will hold vx solutions\n",
    "ypts = []  #y\n",
    "vypts = [] #vy\n",
    "\n",
    "r = rinit.copy()\n",
    "\n",
    "b = 0.0\n",
    "c = 0.002\n",
    "#The engine:  initialize values, then step through with simple Euler method (uses a 1st-order Taylor series)\n",
    "for t in tpts:  #this *for* loop sequentially takes on all the elements of tpts, first to last\n",
    "    xpts.append(r[0])  #extend the list by tacking the latest x on to the end of it\n",
    "    vxpts.append(r[1]) #starting from r which is originally a copy of rinit\n",
    "    ypts.append(r[2])\n",
    "    vypts.append(r[3])\n",
    "    \n",
    "    k1= (h/2)*deriv(r,t) # evaluate the increment on the half step, i.e. the midpoint function at the half step.\n",
    "    r += h*deriv(r+k1,t) # this is the whole step after sniffing out the derivatives at the midpoint\n",
    "    if (t > 0.0)&(r[2]<=0.0):  # a test to see when to cut off the solution\n",
    "                               # (the & symbol indicates a logical AND:  both conditions need to be true)\n",
    "        tmax = t               # by noting when the projectile hits the ground\n",
    "      \n",
    "        trange = r[0]           #store the last x position in the variable named range\n",
    "        break  #quit out of the loop\n",
    "        \n",
    "        \n",
    "height = g*(tmax/2)**2/2\n",
    "\n",
    "        \n",
    "print(f\"Drag-restricted range (for b = 0, c = 0.002, m = 0.5 kg) ={trange:.2f}\")\n",
    "print(f\"Drag-restricted max height (for b = 0, c = 0.002, m = 0.5 kg) = {height:.2f}\")\n",
    "print(f\"Time in air (for b = 0, c = 0.002, m = 0.5 kg) ={tmax:.1f}\")\n",
    "\n",
    "\n",
    "\n",
    "figure()  #this just gets us a new figure, otherwise we'll keep plotting atop the previous one\n",
    "\n",
    "plot(tpts[:len(ypts)],ypts, color='red')\n",
    "grid(True)\n",
    "title( \"Numerical Projectile Motion (y vs t)\")            \n",
    "xlabel(\"time (s)\")\n",
    "ylabel(\"height (m)\")\n",
    "figure()\n",
    "plot(tpts[:len(vypts)],vypts, color='green')\n",
    "\n",
    "title( \"Numerical Projectile Motion(vy vs t)\")            \n",
    "xlabel(\"time (s)\")\n",
    "ylabel(\"speed (m/s)\")\n",
    "\n"
   ]
  },
  {
   "cell_type": "markdown",
   "metadata": {},
   "source": [
    "#### Exercise 3.6\n",
    "\n",
    "Drag forces are nonconservative forces so work done by them results in a loss of the mechanical energy of the system. To see this, first find the amount of mechanical energy lost during the rock's trajectory and then graph the kinetic energy, potential energy and total energy vs. time (all on one plot).\n",
    "\n",
    "##### Mechanical energy loss = \n",
    "\n",
    "*(I get approximately 48 J.  Show your result to 3 significant figures.)*\n",
    "\n",
    "Notice that at one point in the trajectory, the rate of energy loss goes to zero. Explain ***here*** why that makes sense."
   ]
  },
  {
   "cell_type": "code",
   "execution_count": 99,
   "metadata": {},
   "outputs": [
    {
     "name": "stdout",
     "output_type": "stream",
     "text": [
      "Mechanical energy loss =-47.8\n"
     ]
    },
    {
     "data": {
      "text/plain": [
       "Text(0, 0.5, 'Energy (J)')"
      ]
     },
     "execution_count": 99,
     "metadata": {},
     "output_type": "execute_result"
    },
    {
     "data": {
      "image/png": "[encoded data removed]",
      "text/plain": [
       "<Figure size 432x288 with 1 Axes>"
      ]
     },
     "metadata": {
      "needs_background": "light"
     },
     "output_type": "display_data"
    }
   ],
   "source": [
    "# <Exercise 3.6, mechanical energy loss.>\n",
    "\n",
    "deltaKE = m/2*(vypts[-1]**2-vypts[0]**2)\n",
    "print(f\"Mechanical energy loss ={deltaKE:.1f}\")\n",
    "\n",
    "kepts = []\n",
    "for velocity in vypts:\n",
    "    kepts.append((m/2)*velocity**2)\n",
    "kepts = array(kepts)\n",
    "pepts = []\n",
    "for ycord in ypts:\n",
    "    pepts.append(m*g*ycord)\n",
    "pepts = array(pepts)\n",
    "mepts = []\n",
    "for ke in range(len(kepts)):\n",
    "    mepts.append(kepts[ke] + pepts[ke])\n",
    "mepts = array(mepts)\n",
    "\n",
    "figure()\n",
    "plot(tpts[:len(vypts)],kepts, color='green', label = \"kinetic energy\")\n",
    "plot(tpts[:len(vypts)],pepts, color='red', label = 'potential energy')\n",
    "plot(tpts[:len(vypts)],mepts, color='blue', label = 'mechanical energy')\n",
    "legend()\n",
    "\n",
    "title( \"Energies for Numerical Projectile Motion\")            \n",
    "xlabel(\"time (s)\")\n",
    "ylabel(\"Energy (J)\")\n"
   ]
  },
  {
   "cell_type": "markdown",
   "metadata": {},
   "source": [
    "#### Exercise 3.7\n",
    "\n",
    "Since work done on a system is equal to the change in energy, it is possible to equate the change in mechanical energy of the rock to the work done by the drag force. For this exercise, estimate the work done by the drag force across each time-step and sum to find the total work done. Essentially, you will be finding\n",
    "\n",
    "$$\n",
    "W = \\int \\vec F \\cdot d\\vec r\n",
    "$$\n",
    "\n",
    "using the rectangle method for estimating an integral. Verify that the total work you calculate is close to the change in energy.\n",
    "\n",
    "*Hint 1:* The function cumsum() will calculate the sum over an array. This is cleaner and easier than writing a loop to sum over the elements, as you did in the previous lab. https://docs.scipy.org/doc/numpy/reference/generated/numpy.cumsum.html\n",
    "\n",
    "*Hint 2:* You'll need to find the displacement across each time-step. One way to do this is to subtract y[0:-2] from y[1:-1]. Can you see why? Remember that referencing element -1, refers to the last element in the array.\n",
    "\n",
    "*Hint 3:* Be aware of the negative/positive signs of your displacement.\n",
    "\n",
    "---\n",
    "The work done by drag force is -47.25 j. and the loss in mechanical energy is -47.8 j. The two energies are approximately equal. "
   ]
  },
  {
   "cell_type": "code",
   "execution_count": 123,
   "metadata": {},
   "outputs": [
    {
     "name": "stdout",
     "output_type": "stream",
     "text": [
      "total work done by drag force= -47.25\n"
     ]
    }
   ],
   "source": [
    "# <Exercise 3.7, work done by drag force.>\n",
    "dispts = array(ypts[1:-1])-array(ypts[0:-2])\n",
    "\n",
    "dispts = abs(dispts)\n",
    "\n",
    "\n",
    "vya = array(vypts)\n",
    "fpts = -c*vya**2\n",
    "\n",
    "\n",
    "\n",
    "wpts = fpts[1:-1] * dispts\n",
    "cumw = cumsum(wpts)\n",
    "print(f'total work done by drag force= {cumw[-1]:.2f}')\n",
    "\n"
   ]
  },
  {
   "cell_type": "markdown",
   "metadata": {},
   "source": [
    "## Linear and Quadratic Drag\n",
    "\n",
    "Now for 2-dimensional motion with both linear and quadratic drag. *This is a trajectory that cannot be found analytically and so must be calculated numercially!* \n",
    "\n",
    "#### Exercise 3.8\n",
    "\n",
    "Looking at Exercise 2.1 in Taylor (p. 45), match the coefficients for a baseball of diameter $d$ =7 cm, and mass $m$ = 145 g and again plot the trajectory and find the range. In order to see clearly the effect of the drag, include the analytic solution for the case of zero-drag on your plot of the trajectory.\n",
    "\n",
    "*Coding style tip:* rather than hard-coding your values for the drag-coefficients into your deriv function, try passing them as variables. This will make your deriv function more flexible.\n",
    "\n",
    "##### Drag-restricted range for the baseball = \n",
    "\n",
    "*(I get approximately 55 m.  Show your result to 4 significant figures.)*"
   ]
  },
  {
   "cell_type": "code",
   "execution_count": 141,
   "metadata": {},
   "outputs": [
    {
     "name": "stdout",
     "output_type": "stream",
     "text": [
      "range (for b = 0.05, c = 0.0, m = 0.5 kg) =81.70\n",
      "mex height (for b = 0.05, c = 0.0, m = 0.5 kg) = 20.39\n",
      "Drag-restricted range for the baseball = 54.61\n",
      "Drag-restricted mex height (for b = 0.05, c = 0.0, m = 0.5 kg) = 16.05\n"
     ]
    },
    {
     "data": {
      "text/plain": [
       "54.552870639502466"
      ]
     },
     "execution_count": 141,
     "metadata": {},
     "output_type": "execute_result"
    },
    {
     "data": {
      "image/png": "[encoded data removed]",
      "text/plain": [
       "<Figure size 432x288 with 1 Axes>"
      ]
     },
     "metadata": {
      "needs_background": "light"
     },
     "output_type": "display_data"
    }
   ],
   "source": [
    "# <Exercise 3.8 Solution for baseball from Taylor, p. 45. Projectile motion, improved Euler, with drag.>\n",
    "g = 9.8 #the acceleration due to gravity.  By declaring it here it will be available anywhere in the rest of the notebook\n",
    "m = 1 # the mass of the projectile\n",
    "\n",
    "\n",
    "\n",
    "tstart = 0 #starting time\n",
    "tend = 15 #ending time\n",
    "N = 3000 # #steps\n",
    "h = (tend-tstart)/N #  h is the time step, deltat\n",
    "tpts = arange(tstart,tend,h)\n",
    "\n",
    "x0 = 0 #initial x position\n",
    "y0 = 0 #initial y position\n",
    "vx0 = 20 #initial x-component of the velocity\n",
    "vy0 = 20 #initial y-component of the velocity\n",
    "rinit = array([x0,vx0,y0,vy0],float)\n",
    "\n",
    "xpts = []  #this is an empty list that will hold x solutions\n",
    "vxpts = []  #this will hold vx solutions\n",
    "ypts = []  #y\n",
    "vypts = [] #vy\n",
    "\n",
    "\n",
    "\n",
    "r = rinit.copy()  #make a *copy* of rinit.  This leaves rinit unchanged, but allows r to take on different values\n",
    "\n",
    "def deriv(r,t):\n",
    "    x = r[0]  #first, extract the variables from the r-list\n",
    "    vx = r[1]\n",
    "    y = r[2]\n",
    "    vy = r[3]\n",
    "    dxdt = vx #now create the derivatives.  Note:  by definition dxdt = vx\n",
    "    dvxdt = 0\n",
    "    dydt = vy\n",
    "    dvydt = - g\n",
    "    return array([dxdt, dvxdt, dydt, dvydt],float)\n",
    "\n",
    "#The engine:  initialize values, then step through with simple Euler method (uses a 1st-order Taylor series)\n",
    "for t in tpts:  #this *for* loop sequentially takes on all the elements of tpts, first to last\n",
    "    xpts.append(r[0])  #extend the list by tacking the latest x on to the end of it\n",
    "    vxpts.append(r[1]) #starting from r which is originally a copy of rinit\n",
    "    ypts.append(r[2])\n",
    "    vypts.append(r[3])\n",
    "    \n",
    "    \n",
    "    k1= (h/2)*deriv(r,t) # evaluate the increment on the half step, i.e. the midpoint function at the half step.\n",
    "    r += h*deriv(r+k1,t) # this is the whole step after sniffing out the derivatives at the midpoint\n",
    "    \n",
    "        \n",
    "    if (t > 0.0)&(r[2]<=0.0):  # a test to see when to cut off the solution\n",
    "                               # (the & symbol indicates a logical AND:  both conditions need to be true)\n",
    "        tmax = t               # by noting when the projectile hits the ground\n",
    "      \n",
    "        trange = r[0]           #store the last x position in the variable named range\n",
    "        break  #quit out of the loop\n",
    "\n",
    "        \n",
    "        \n",
    "height = g*(tmax/2)**2/2\n",
    "\n",
    "        \n",
    "print(f\"range (for b = 0.05, c = 0.0, m = 0.5 kg) ={trange:.2f}\")\n",
    "print(f\"mex height (for b = 0.05, c = 0.0, m = 0.5 kg) = {height:.2f}\")\n",
    "\n",
    "\n",
    "figure()  #this just gets us a new figure, otherwise we'll keep plotting atop the previous one\n",
    "\n",
    "plot(xpts,ypts, color='red', label = 'without air drag')\n",
    "\n",
    "title( \"Numerical Projectile Motion\")            \n",
    "xlabel(\"distance (m)\")\n",
    "ylabel(\"height (m)\")\n",
    "g = 9.8 #the acceleration due to gravity.  By declaring it here it will be available anywhere in the rest of the notebook\n",
    "m = 0.145 # the mass of the projectile\n",
    "d = 0.07\n",
    "\n",
    "\n",
    "tstart = 0 #starting time\n",
    "tend = 15 #ending time\n",
    "N = 3000 # #steps\n",
    "h = (tend-tstart)/N #  h is the time step, deltat\n",
    "tpts = arange(tstart,tend,h)\n",
    "\n",
    "x0 = 0 #initial x position\n",
    "y0 = 0 #initial y position\n",
    "vx0 = 20 #initial x-component of the velocity\n",
    "vy0 = 20 #initial y-component of the velocity\n",
    "rinit = array([x0,vx0,y0,vy0],float)\n",
    "\n",
    "xpts = []  #this is an empty list that will hold x solutions\n",
    "vxpts = []  #this will hold vx solutions\n",
    "ypts = []  #y\n",
    "vypts = [] #vy\n",
    "\n",
    "b = 1.6e-4*d\n",
    "c = 0.25*d**2\n",
    "b=0\n",
    "r = rinit.copy()  #make a *copy* of rinit.  This leaves rinit unchanged, but allows r to take on different values\n",
    "\n",
    "def deriv(r,t):\n",
    "    x = r[0]  #first, extract the variables from the r-list\n",
    "    vx = r[1]\n",
    "    y = r[2]\n",
    "    vy = r[3]\n",
    "    dxdt = vx #now create the derivatives.  Note:  by definition dxdt = vx\n",
    "    dvxdt = -b*vx/m-c*(vx**2+vy**2)**0.5*vx/m \n",
    "    dydt = vy\n",
    "    dvydt = - g - b*vy/m-c*(vx**2+vy**2)**0.5*vy/m \n",
    "    return array([dxdt, dvxdt, dydt, dvydt],float)\n",
    "\n",
    "#The engine:  initialize values, then step through with simple Euler method (uses a 1st-order Taylor series)\n",
    "for t in tpts:  #this *for* loop sequentially takes on all the elements of tpts, first to last\n",
    "    xpts.append(r[0])  #extend the list by tacking the latest x on to the end of it\n",
    "    vxpts.append(r[1]) #starting from r which is originally a copy of rinit\n",
    "    ypts.append(r[2])\n",
    "    vypts.append(r[3])\n",
    "    \n",
    "    \n",
    "    k1= (h/2)*deriv(r,t) # evaluate the increment on the half step, i.e. the midpoint function at the half step.\n",
    "    r += h*deriv(r+k1,t) # this is the whole step after sniffing out the derivatives at the midpoint\n",
    "    \n",
    "        \n",
    "    if (t > 0.0)&(r[2]<=0.0):  # a test to see when to cut off the solution\n",
    "                               # (the & symbol indicates a logical AND:  both conditions need to be true)\n",
    "        tmax = t               # by noting when the projectile hits the ground\n",
    "      \n",
    "        trange = r[0]           #store the last x position in the variable named range\n",
    "        break  #quit out of the loop\n",
    "        \n",
    "        \n",
    "height = g*(tmax/2)**2/2\n",
    "\n",
    "        \n",
    "print(f\"Drag-restricted range for the baseball = {trange:.2f}\")\n",
    "print(f\"Drag-restricted mex height (for b = 0.05, c = 0.0, m = 0.5 kg) = {height:.2f}\")\n",
    "\n",
    "\n",
    " #this just gets us a new figure, otherwise we'll keep plotting atop the previous one\n",
    "\n",
    "plot(xpts,ypts, color='Green', label='with air drag')\n",
    "legend()\n",
    "\n",
    "title( \"Numerical Projectile Motion\")            \n",
    "xlabel(\"distance (m)\")\n",
    "ylabel(\"height (m)\")\n",
    "xpts[-1]\n"
   ]
  },
  {
   "cell_type": "markdown",
   "metadata": {},
   "source": [
    "#### Exercise 3.9\n",
    "\n",
    "Try alternately setting both $b$ and $c$ to zero. ***Which has a greater effect on the trajectory of the baseball: the linear or quadratic term?***\n",
    "\n",
    "\n",
    "Quadratic drag has greater influence. We can draw this conclusion by comparing the range.\n",
    "\n",
    "With linear and quadratic drag, range = 54.54682379371847 m \n",
    "\n",
    "with only linear drag, range = 81.58714344162715 m\n",
    "\n",
    "with only quadratic drag, range = 54.552870639502466 m\n",
    "\n",
    "We can see that quadratic drag is the dominant force. "
   ]
  },
  {
   "cell_type": "markdown",
   "metadata": {
    "collapsed": true
   },
   "source": [
    "## Check-out\n",
    "#### Exercise 3.10\n",
    "\n",
    "Briefly summarize in the cell below the ideas of today's lab.\n",
    "\n",
    "We first reviewed the euler approximation which is useful for numerical analysis. Then we studied the effect of quadratic and linear drag force on projectiles. We plot the graphs for linear and quadratic drag in 1-d, their mechanical kinetic and potential energies. We also checked that the Work done on a system is equal to change in the mechanical energy.\n"
   ]
  },
  {
   "cell_type": "code",
   "execution_count": null,
   "metadata": {
    "collapsed": true
   },
   "outputs": [],
   "source": []
  },
  {
   "cell_type": "markdown",
   "metadata": {},
   "source": [
    "## Challenge Problems\n",
    "\n",
    "Repeat the work-energy analysis you did in 3.6 and 3.7 for the baseball. Note that you'll have to calculate the change in position for 2-dimensional motion and that you'll have to include both forms of drag. "
   ]
  },
  {
   "cell_type": "code",
   "execution_count": null,
   "metadata": {
    "collapsed": true
   },
   "outputs": [],
   "source": []
  },
  {
   "cell_type": "code",
   "execution_count": null,
   "metadata": {
    "collapsed": true
   },
   "outputs": [],
   "source": []
  }
 ],
 "metadata": {
  "kernelspec": {
   "display_name": "Python 3",
   "language": "python",
   "name": "python3"
  },
  "language_info": {
   "codemirror_mode": {
    "name": "ipython",
    "version": 3
   },
   "file_extension": ".py",
   "mimetype": "text/x-python",
   "name": "python",
   "nbconvert_exporter": "python",
   "pygments_lexer": "ipython3",
   "version": "3.6.9"
  }
 },
 "nbformat": 4,
 "nbformat_minor": 1
}
