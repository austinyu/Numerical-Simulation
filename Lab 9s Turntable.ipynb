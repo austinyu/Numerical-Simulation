{
 "cells": [
  {
   "cell_type": "markdown",
   "metadata": {},
   "source": [
    "# Mechanics Lab 9-- A puck on a rotating turntable\n",
    "\n",
    "Today you'll be considering a frictionless puck on a horizontal turntable. It will give you practice mentally shifting between inertial and non-inertial reference frames and working with both the centrifugal and Coriolis forces. \n",
    "\n",
    "First you will predict the behavior of the puck in two special cases. Then you will determine the equations of motion numerically and analyze the behavior of the puck under different initial conditions. For your final output, you'll produce a movie of the puck in both the inertial and non-inertial reference frames.\n",
    "\n",
    "## Objectives\n",
    "\n",
    "In this lab you will \n",
    "* integrate the equation of motion to find the trajectory of the puck in a non-inertial reference frame,\n",
    "* compare the behavior of the puck in both the inertial and non-inertial reference frames,\n",
    "* and explore the behavior of the puck with several different initial conditions.\n"
   ]
  },
  {
   "cell_type": "code",
   "execution_count": 1,
   "metadata": {},
   "outputs": [
    {
     "name": "stdout",
     "output_type": "stream",
     "text": [
      "Populating the interactive namespace from numpy and matplotlib\n"
     ]
    }
   ],
   "source": [
    "%pylab inline\n",
    "from scipy.integrate import odeint  # import the differential equation integrator\n",
    "from matplotlib import animation"
   ]
  },
  {
   "cell_type": "markdown",
   "metadata": {},
   "source": [
    "# unresolved\n",
    "\n",
    "## Pre-lab questions\n",
    "\n",
    "#### Exercise 9.1 \n",
    "To get you thinking about motion in a non-inertial reference frame, answer the question 9.19 from your textbook (Taylor 2005), transcribed below.\n",
    "\n",
    "9.19. I am standing (wearing crampons) on a perfectly frictionless flat merry-go-round, which is rotating counterclockwise with angular velocity $\\Omega$ about its vertical axis.\n",
    "\n",
    "(**a**) I am holding a puck at rest just above the floor (of the merry-go-round) and release it. Describe the puck's path as seen from above by an observer who is looking down from a nearby tower (fixed to the ground) and also as seen by me on the merry-go-round. \n",
    "\n",
    "(**b**) Answer the same questions for a puck which is released from rest by a long-armed spectator who is standing on the ground leaning over the merry-go-round.\n",
    "\n",
    "   a. As seen from another observer, the puck will move in direction of the tangent line. The velocity will be $\\Omega$ times the radius of the merry-go-round. As seen from the oberver on marry-go-around, the direction of velocity is same as the direction vector R, perpendicular to axis of rotation outward. \n",
    "   \n",
    "   b. As seen from another observer, there is no displacement in horizontal direction. As seen from observer on marry-go-round, the path is a circle, becasue if we change the coordinate from inertial to non intertial, radius stays the same but $\\theta_{nonintert} = \\theta_{inert} - \\Omega t$"
   ]
  },
  {
   "cell_type": "markdown",
   "metadata": {},
   "source": [
    "## Framing the problem\n",
    "In order to solve this problem either numerically, the first steps are to find the equations of motion and set the initial conditions.\n",
    " \n",
    "As you may have learned in class already, in a rotating frame, there will be two ficticious (also called inertial) forces acting on an object in addition to regular forces that might be acting on it. One of them is the centrifugal force, which tries to throw an object outward away from the axis of rotation. The other one is called the Coriolis force, and it is responsible for the counterclockwise wind direction of hurricanes in the Northern hemisphere. Mathematically, the centrifugal force is given by\n",
    "\n",
    "$$\\vec{F}_{cf}=m(\\vec{\\Omega}\\times\\vec{r})\\times\\vec{\\Omega}$$\n",
    "\n",
    "where $\\vec{r}$ is the position vector of an object in the rotating frame and $\\vec{\\Omega}$ is the angular velocity vector describing the rotation of the noninertial frame. The Coriolis force is given by\n",
    "\n",
    "$$\\vec{F}_{cor}=2m\\left(\\frac{d\\vec{r}}{dt}\\times\\vec{\\Omega}\\right)$$\n",
    "\n",
    "### Equations of motion\n",
    "#### Exercise 9.2\n",
    "On a piece of paper, write down Newton's second law for the puck for the coordinates \\\\(x\\\\) and \\\\(y\\\\) as seen by someone standing on the turntable. Assume that the turntable is rotating counterclockwise with angular velocity \\\\(\\Omega\\\\). (Be sure to include the centrifugal and Coriolis forces, but ignore the earth's rotation.)\n",
    "\n",
    "### Setting the initial conditions and other physical parameters\n",
    "#### Exercise 9.3\n",
    "In the cell below, define a set of variables for the initial position and velocity in the non-inertial reference frame and set \\\\( \\Omega = 1 \\\\). To begin, let the initial position be $\\bf{r_0}$$ = (1,0)$ and the initial velocity in the rotating reference frame be $\\bf{v_0}$$ = (0,1)$."
   ]
  },
  {
   "cell_type": "code",
   "execution_count": 2,
   "metadata": {},
   "outputs": [],
   "source": [
    "# Define omega and the initial position and velocity of the puck\n",
    "omega = 1\n",
    "r_0 = [1,0]\n",
    "v_0 = [0,1]\n"
   ]
  },
  {
   "cell_type": "markdown",
   "metadata": {},
   "source": [
    "### Numerically solving the equations of motion\n",
    "\n",
    "#### Exercise 9.4\n",
    "In the cell below, define a function, deriv, that will return the derivatives for your four variables. Then use odeint to solve for ${\\bf r}(t)$ in the non-inertial reference frame for \\\\(0 \\leq t \\ \\leq 2 \\pi \\\\)."
   ]
  },
  {
   "cell_type": "code",
   "execution_count": 12,
   "metadata": {},
   "outputs": [],
   "source": [
    "# Define your deriv function and use odeint to solve for the trajectory of the puck from 0 <= t <= 2pi\n",
    "def deriv(f,t):\n",
    "    x = f[0]\n",
    "    y = f[1]\n",
    "    vx = f[2]\n",
    "    vy = f[3]\n",
    "    \n",
    "    d2xdt2 = omega**2*x + 2*omega*vx\n",
    "    d2ydt2 = omega**2*y + 2*omega*vy\n",
    "    \n",
    "    return array([vx,vy,d2xdt2,d2ydt2])\n",
    "  \n",
    "time = linspace(0,2*pi,100000)\n",
    "fInit = r_0 + v_0\n",
    "\n",
    "r = odeint(deriv,fInit,time)"
   ]
  },
  {
   "cell_type": "code",
   "execution_count": 14,
   "metadata": {},
   "outputs": [
    {
     "data": {
      "text/plain": [
       "[<matplotlib.lines.Line2D at 0x12c2374f0>]"
      ]
     },
     "execution_count": 14,
     "metadata": {},
     "output_type": "execute_result"
    },
    {
     "data": {
      "image/png": "[encoded data removed]",
      "text/plain": [
       "<Figure size 432x288 with 1 Axes>"
      ]
     },
     "metadata": {
      "needs_background": "light"
     },
     "output_type": "display_data"
    }
   ],
   "source": [
    "ratio = array(y)/array(x)\n",
    "ratio\n",
    "figure()\n",
    "plot(time,ratio)"
   ]
  },
  {
   "cell_type": "markdown",
   "metadata": {},
   "source": [
    "#### Exercise 9.5\n",
    "Plot the position of the puck below. The existing code will create a grey circle representing the turntable. All that is needed is to plot the trajectory over it."
   ]
  },
  {
   "cell_type": "code",
   "execution_count": 11,
   "metadata": {},
   "outputs": [
    {
     "data": {
      "image/png": "[encoded data removed]",
      "text/plain": [
       "<Figure size 432x288 with 1 Axes>"
      ]
     },
     "metadata": {
      "needs_background": "light"
     },
     "output_type": "display_data"
    }
   ],
   "source": [
    "# Plotting the trajectory of the puck\n",
    "\n",
    "figure()\n",
    "# Add command to plot the pucks trajectory\n",
    "circle = Circle((0, 0), radius=15, fc='0.75') # Creates a grey circle with radius 15 centered at (0,0)\n",
    "gca().add_patch(circle) # Plots the circle\n",
    "axis('scaled') # Forces a 1:1 aspect ratio\n",
    "x = r[:,0]\n",
    "y = r[:,1]\n",
    "plot(x,y)\n",
    "show()\n",
    "\n"
   ]
  },
  {
   "cell_type": "markdown",
   "metadata": {},
   "source": [
    "### Comparing the trajectory in the rotating reference frame to that in a fixed inertial reference frame\n",
    "You will gain a better understanding of what is going on if you plot the trajectory of the puck in a fixed reference frame as well. \n",
    "\n",
    "#### Exercise 9.6\n",
    "First fill in the code below to create a function that will return the x and y coordinates of the trajectory in the fixed reference frame. Your function should take a time (either as a single value or in the form of an array) and a list of the initial conditions (in the inertial reference frame) and return a list of the x and y positions at that time. If the function is properly set up, calling it with an array of time values should cause it to return a list of two arrays - the x and y positions."
   ]
  },
  {
   "cell_type": "code",
   "execution_count": null,
   "metadata": {
    "collapsed": true
   },
   "outputs": [],
   "source": [
    "#x and y positions of the puck in the inertial reference frame\n",
    "def pos_prime(f,t): \n",
    "    \n",
    "    # Function values:    \n",
    "    x = 0 ### FIX\n",
    "    dxdt = 0 ### FIX\n",
    "    y = 0 ### FIX\n",
    "    dydt = 0 ### FIX\n",
    "    \n",
    "    return [0*t , 0*t] ### FIX\n",
    "\n",
    "#initial conditions in inertial reference frame\n",
    "f_init_prime =  [0,0,0,0] ### FIX \n",
    "f_solun_prime = pos_prime(f_init_prime,time)\n",
    "\n",
    "\n"
   ]
  },
  {
   "cell_type": "markdown",
   "metadata": {},
   "source": [
    "#### Exercise 9.7\n",
    "Plot the trajectories in both the rotating and non-rotating reference frames (including the turntable). Your plots will be easier to compare if they are lined up horizontally next to each other. Use the *subplot* routine to plot them side by side."
   ]
  },
  {
   "cell_type": "code",
   "execution_count": null,
   "metadata": {
    "collapsed": true
   },
   "outputs": [],
   "source": [
    "# Plots go here:\n",
    "\n",
    "\n"
   ]
  },
  {
   "cell_type": "markdown",
   "metadata": {},
   "source": [
    "#### Exercise 9.8\n",
    "In the space below, justify that your plots of the trajectories in both reference frames are consistent with each other.\n",
    "\n",
    "   /  (double-click to enter text)\n",
    "   /  \n",
    "   /  \n",
    "   /  \n",
    "   /  \n",
    "   /  \n",
    "   /  \n",
    "   /  \n",
    "   /  \n",
    "   / "
   ]
  },
  {
   "cell_type": "markdown",
   "metadata": {},
   "source": [
    "### Explore different initial conditions\n",
    "\n",
    "#### Exercise 9.9\n",
    "Change the initial velocity of the puck to reflect both situations asked about in the pre-lab question and include your plots below for both the inertial and non-inertial reference frames. Be sure to avoid any unecessary duplication of code.\n",
    "\n",
    "In the space below, compare your predictions to the numerically-derived solutions.  Be sure to explain any discrepancies.\n",
    "\n",
    "   /  (double-click to enter text)\n",
    "   /  \n",
    "   /  \n",
    "   /  \n",
    "   /  \n",
    "   /  \n",
    "   /  \n",
    "   /  \n",
    "   /  \n",
    "   / "
   ]
  },
  {
   "cell_type": "code",
   "execution_count": null,
   "metadata": {
    "collapsed": true
   },
   "outputs": [],
   "source": [
    "#Fill in the code for the person at rest relative to the turntable dropping the puck.\n",
    "\n"
   ]
  },
  {
   "cell_type": "code",
   "execution_count": null,
   "metadata": {
    "collapsed": true
   },
   "outputs": [],
   "source": [
    "#Fill in the code for the person at rest relative to the inertial reference frame dropping the puck\n",
    "\n"
   ]
  },
  {
   "cell_type": "markdown",
   "metadata": {},
   "source": [
    "#### Exercise 9.10\n",
    "Explore two or three other initial velocities, including the plots below. Some ideas for $\\bf{v_0}$ are $(-0.5,-0.5)$, $(-0.7, -0.7)$ and $(0,-0.1)$. (You may need to change the radius of the grey circle to be able to see the details of the puck's motion.)"
   ]
  },
  {
   "cell_type": "code",
   "execution_count": null,
   "metadata": {
    "collapsed": true
   },
   "outputs": [],
   "source": [
    "#Fill in the code for the other initial conditions\n",
    "\n"
   ]
  },
  {
   "cell_type": "markdown",
   "metadata": {},
   "source": [
    "#### Exercise 9.11\n",
    "When a puck slides on a rotating turntable, it can come instantaneously to rest in the non-inertial frame. Explain in the space below how this happens in terms of the inertial forces.\n",
    "\n",
    "   /  (double-click to enter text)\n",
    "   /  \n",
    "   /  \n",
    "   /  \n",
    "   /  \n",
    "   /  \n",
    "   /  \n",
    "   /  \n",
    "   /  \n",
    "   / "
   ]
  },
  {
   "cell_type": "markdown",
   "metadata": {},
   "source": [
    "## Animating the trajectory\n",
    "Finally, we can make a movie of the puck. Given the right functions, xt, yt, xt_prime, yt_prime, these last blocks of code will create an animation of the puck with the trajectories in both the inertial and rotating reference frame shown. \n",
    "\n",
    "#### Exercise 9.12\n",
    "In order to show the turntable turning in the inertial reference frame, your movie should include a marker on the edge of the turntable that moves with the turntable. To follow the position of this marker, fill in the function below, pos_marker, to make it return the position of the marker in the inertial reference frame as a function of time. This function should take a time and a radius and return an array of positions. For ease, you can assume the edge marker starts at (r,0) (in cartesian coordinates)."
   ]
  },
  {
   "cell_type": "code",
   "execution_count": null,
   "metadata": {
    "collapsed": true
   },
   "outputs": [],
   "source": [
    "# Function to return the position of a marker on the edge of the turntable.\n",
    "\n",
    "def pos_marker(t,r):\n",
    "    return [0,0] ### FIX\n",
    "\n"
   ]
  },
  {
   "cell_type": "markdown",
   "metadata": {},
   "source": [
    "#### Exercise 9.13\n",
    "Fill in code to select $x(t)$ and $y(t)$ for the puck from f_solun = odeint(deriv,f_init,time) (last two lines of the cell).\n",
    "\n",
    "Then try running the two blocks of code below to produce a movie. After you have successfully run it once, try playing around with the code by changing the amount of time it is run for, the length of time between frames, the initial conditions etc.  "
   ]
  },
  {
   "cell_type": "code",
   "execution_count": null,
   "metadata": {
    "collapsed": true
   },
   "outputs": [],
   "source": [
    "#Define parameters for movie and solve for solution in rotating reference frame\n",
    "\n",
    "#Define the radius of the turntable\n",
    "r = 20\n",
    "\n",
    "#Define time array\n",
    "dt = 0.01 # time interval for integrator in seconds\n",
    "max_time = 3*math.pi #maximum time the solution will be calculated to\n",
    "frame_spacing = 2 #every other value will be plotted\n",
    "num_frames = round(max_time/dt/frame_spacing) #total number of frames the movie will plot\n",
    "time = linspace(0.0,max_time,max_time/dt) #time array for the numerical solution\n",
    "\n",
    "#Define the initial conditions\n",
    "x0 = 1 # Initial x position\n",
    "y0 = 0 # Initial y position\n",
    "vx0 = 0 # Initial x velocity in rotating reference frame\n",
    "vy0 = 1 # Initial y velocity in rotating reference frame\n",
    "f_init = [x0,vx0,y0,vy0] # initial values\n",
    "f_init_prime = [x0,vx0 - y0*omega,y0,vy0 + x0*omega] # initial conditions in inertial reference frame\n",
    "\n",
    "#Calculate the numerical solution\n",
    "f_solun = odeint(deriv,f_init,time)\n",
    "x_pos = time*0 ##FIX\n",
    "y_pos = time*0 ##FIX\n",
    "\n"
   ]
  },
  {
   "cell_type": "code",
   "execution_count": null,
   "metadata": {
    "collapsed": true
   },
   "outputs": [],
   "source": [
    "%pylab \n",
    "#get rid of inline plotting\n",
    "\n",
    "# Define and customize the figure, including plotting the turntable.\n",
    "fig=figure()\n",
    "ax= axes(xlim=-1*r, ylim=-1*r)\n",
    "grid()\n",
    "circle = Circle((0, 0), radius=r, fc='0.75')\n",
    "gca().add_patch(circle)\n",
    "plt.axis('scaled')\n",
    "\n",
    "# Define and customize the markings that will be animated.\n",
    "edgemarker,=ax.plot([],[], 'ro', ms=6) # The marker on the edge of the turntable.\n",
    "puckmarker,=ax.plot([],[], 'bo', ms=6) # A marker representing the puck.\n",
    "puck_track,=ax.plot([],[], 'b', lw=2) # The path of the puck in the inertial reference frame.\n",
    "puck_track_rot,=ax.plot([],[], 'r', lw=2) # The path of the puck in the rotating reference frame.\n",
    "\n",
    "# FuncAnimation requires an initialization function.  This just\n",
    "# lets FuncAnimation know that this line reference is the one to use.\n",
    "# The function does no plotting since set_data is empty.\n",
    "def init():\n",
    "    edgemarker.set_data([], [])\n",
    "    puckmarker.set_data([], [])\n",
    "    puck_track.set_data([], [])\n",
    "    puck_track_rot.set_data([], [])\n",
    "    return edgemarker, puckmarker, puck_track, puck_track_rot\n",
    "\n",
    "# function used in the FuncAnimation\n",
    "def animate(i):\n",
    "    # This makes the plot, by moving data into lines's set_data method\n",
    "\n",
    "    j = frame_spacing*i #To keep the movie running fast, we will only plot every other point\n",
    "    \n",
    "    t = time[j] # Timestep of the frame\n",
    "    # Since we want to plot the track and not just the position of the puck, we need to define an \n",
    "    # array of times from zero to the current time of the figure.\n",
    "    t_array = time[0:j]\n",
    "    \n",
    "    edgemarker.set_data(pos_marker(t,r)[0],pos_marker(t,r)[1]) # Marker moving on the edge of the turntable   \n",
    "    puckmarker.set_data(pos_prime(f_init_prime,t)[0],pos_prime(f_init_prime,t)[1]) #Marker representing the puck\n",
    "    \n",
    "    # Track in the inertial reference frame\n",
    "    puck_track.set_data(pos_prime(f_init_prime,t_array)[0],pos_prime(f_init_prime,t_array)[1]) \n",
    "\n",
    "    # Track in the rotating reference frame\n",
    "    theta_array = numpy.arctan(y_pos[0:j]/x_pos[0:j]) #Angle in rotating reference frame\n",
    "    valid = (x_pos[0:j] < 0).nonzero() #Indices where the x-value is negative and so the calculated value of phi must be adjusted\n",
    "    theta_array[valid] = theta_array[valid] + math.pi\n",
    "    r_track = numpy.sqrt(x_pos[0:j]**2 + y_pos[0:j]**2) #radius in rotating reference frame\n",
    "    x_track = r_track*numpy.cos(theta_array + omega*t) #Adjusting the angle by the amount the turntable has rotate and recalculating the x-coordinate\n",
    "    y_track = r_track*numpy.sin(theta_array + omega*t) #Same as above for y\n",
    "    puck_track_rot.set_data(x_track,y_track)\n",
    "    \n",
    "    return puck_track, puck_track_rot, edgemarker, puckmarker, \n",
    "\n",
    "# for blit True, plot only changes from previous plot to speed up plot calls\n",
    "# blit must be False on osx (changing the backend will also work, but this is easier)\n",
    "# use non-inline plots for animation on os\n",
    "anim= animation.FuncAnimation(fig, animate, init_func=init, frames=num_frames, interval=1, blit=False)\n"
   ]
  },
  {
   "cell_type": "markdown",
   "metadata": {},
   "source": [
    "## Check-out\n",
    "#### Exercise 9.14\n",
    "\n",
    "Briefly summarize in the cell below the ideas in today's lab.\n",
    "\n",
    "   /  (double-click to enter text)\n",
    "   /  \n",
    "   /  \n",
    "   /  \n",
    "   /  \n",
    "   /  \n",
    "   /  \n",
    "   /  \n",
    "   /  \n",
    "   / "
   ]
  },
  {
   "cell_type": "markdown",
   "metadata": {},
   "source": [
    "## Challenge Problems\n",
    "\n",
    "Complete the following exercises if you have extra time once you have completed the rest of the lab. These exercises are all centered on solving for the analytic solution and comparing it to the numerical solution.\n",
    "\n",
    "* Solve for the analytic solution. To do this, solve the two equations by the trick of writing \\\\(\\eta = x + i y\\\\) and guessing a solution of the form \\\\( \\eta = e^{-i\\alpha t}\\\\). As in the case of the critically damped SHM you will only get one solution. The other solution has the form $B te^{-i\\alpha t}$ as we found for the second solution in the damped SHM. Leave your general solution in terms of \\\\( \\eta \\\\) and appropriate constants.\n",
    "* Solve for the constants of integration. To do this, assume that at time \\\\(t = 0 \\\\), the position was \\\\( {\\bf r}_0 = ( x_0,0) \\\\) and the velocity was $ {\\bf v}_0 = (v_{x0},v_{y0}) $. Show that\n",
    "$$x(t) = (x_0 + v_{x0} t)\\cos \\Omega t + (v_{y0} + \\Omega x_0 ) t \\sin \\Omega t$$\n",
    "$$y(t) = -(x_0 + v_{x0} t)\\sin \\Omega t + (v_{y0} + \\Omega x_0 ) t \\cos \\Omega t$$   \n",
    "* Plot your analytic solution and compare against the numerical solution.\n"
   ]
  },
  {
   "cell_type": "code",
   "execution_count": null,
   "metadata": {
    "collapsed": true
   },
   "outputs": [],
   "source": []
  }
 ],
 "metadata": {
  "kernelspec": {
   "display_name": "Python 3",
   "language": "python",
   "name": "python3"
  },
  "language_info": {
   "codemirror_mode": {
    "name": "ipython",
    "version": 3
   },
   "file_extension": ".py",
   "mimetype": "text/x-python",
   "name": "python",
   "nbconvert_exporter": "python",
   "pygments_lexer": "ipython3",
   "version": "3.8.0"
  }
 },
 "nbformat": 4,
 "nbformat_minor": 1
}
