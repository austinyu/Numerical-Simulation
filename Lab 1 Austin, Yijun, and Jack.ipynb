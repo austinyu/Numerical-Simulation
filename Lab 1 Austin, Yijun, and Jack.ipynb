{
 "cells": [
  {
   "cell_type": "markdown",
   "metadata": {},
   "source": [
    "# Mechanics Lab I -- Introduction to Python and Taylor Series\n",
    "\n",
    "Welcome to the lab component of PHY234 -- Mechanics. In this lab you'll use python to computationally model a variety of different physical systems. It will give you the chance to explore the ideas discussed in lecture while also learning programming basics.\n",
    "\n",
    "## Objectives\n",
    "In this lab, you will \n",
    "\n",
    "* learn how to open, edit, run and save an iPython notebook;\n",
    "* become familiar with different python data types and how to print variables and use them in calculation;\n",
    "* manipulate python lists and arrays;\n",
    "* plot data;\n",
    "* and use Taylor series to approximate a function."
   ]
  },
  {
   "cell_type": "markdown",
   "metadata": {},
   "source": [
    "## Working with IPython Notebook\n",
    "\n",
    "*  We'll use the anaconda python software package. It should be installed on all of the machines in this lab.  If you would like to use python on another computer (for example, your personal computer) you will need to install anaconda from the following website https://www.continuum.io/downloads.  ** Make sure you download python 3, which is the version we will be using this semester. **\n",
    "\n",
    "There's no better way to learn to code than to start coding.  Therefore, rather than reading all about ipython notebook, we will immediately start executing commands and working from examples.  Here goes: "
   ]
  },
  {
   "cell_type": "markdown",
   "metadata": {},
   "source": [
    "### Cell Types"
   ]
  },
  {
   "cell_type": "markdown",
   "metadata": {},
   "source": [
    "iPython notebooks consist of sets of cells that can be either \"markdown\" cells or \"code\" cells. The type of given cell is listed in the pulldown menu in the toolbar above (this one is labeled \"Markdown\"). You can change the type of cell by selecting a different type from the pulldown menu.\n",
    "\n",
    "#### Markdown Cells  \n",
    "Markdown cells generally contain text, for instance, instructions or explanations. For examples, this cell is a markdown cell. Markdown refers to a markup language with syntax designed for writing formatted text.  It's easily converted to html and other formats. Markdown syntax includes headers of various sizes, lists, paragraphs, <span style=\"color:blue\"> color </span>, *** text emphasis***, math latex using mathjax, etc. You can also use html tags, but I can never remember more than one or two tags at any given time. For more detailed information see: https://help.github.com/articles/markdown-basics/.  \n",
    "\n",
    "As an example of how markdown syntax can be used for format text, here's your favorite equation using mathjax math latex.  \n",
    "$$ \\sum F = m \\ddot x $$\n",
    "\n",
    "**Try this:**\n",
    "* To see the syntax of this markdown cell, click on this cell with your cursor and push `return`.\n",
    "* Then run the cell (type `shift-return`) to show the marked-up cell. Alternatively, click the triangle icon in the toolbar above.\n",
    "\n",
    "*Note: If you're interested in more markdown details, the above link is an excellent place to start. *"
   ]
  },
  {
   "cell_type": "markdown",
   "metadata": {},
   "source": [
    "#### Code Cells\n",
    "Python code and ipython code extensions go into code cells. The entire cell can be executed by typing `shift-enter`. In the next section you will run some example code.  \n",
    "\n",
    "*Note: To get help on other such notebook commands, do an `esc-h`. The `esc` puts you into command mode; the `h` calls for a help page. *"
   ]
  },
  {
   "cell_type": "markdown",
   "metadata": {},
   "source": [
    "# Python Example Code\n",
    "## Variables\n",
    "### Changing variables\n",
    "Work through the following cells of code, executing each one by one."
   ]
  },
  {
   "cell_type": "code",
   "execution_count": 66,
   "metadata": {},
   "outputs": [
    {
     "name": "stdout",
     "output_type": "stream",
     "text": [
      "Populating the interactive namespace from numpy and matplotlib\n"
     ]
    },
    {
     "name": "stderr",
     "output_type": "stream",
     "text": [
      "C:\\ProgramData\\Anaconda3\\lib\\site-packages\\IPython\\core\\magics\\pylab.py:160: UserWarning: pylab import has clobbered these variables: ['arange']\n",
      "`%matplotlib` prevents importing * from pylab and numpy\n",
      "  \"\\n`%matplotlib` prevents importing * from pylab and numpy\"\n"
     ]
    }
   ],
   "source": [
    "# The `#` key is the comment character in python. Any line that starts with it, such as this one, will not be executed.\n",
    "\n",
    "# Always execute the `%pylab inline` magic function in your first code cell. \n",
    "# This function imports the numpy and matplotlib modules; we'll learn more about modules means shortly.\n",
    "# inline causes plots to appear in the notebook rather than in a separate window.  \n",
    "\n",
    "%pylab inline   \n"
   ]
  },
  {
   "cell_type": "code",
   "execution_count": 67,
   "metadata": {},
   "outputs": [
    {
     "name": "stdout",
     "output_type": "stream",
     "text": [
      "The variable aObj is equal to  234\n"
     ]
    }
   ],
   "source": [
    "# This cell defines a variable, aObj, sets it equal to 234, and prints a statement about it\n",
    "\n",
    "aObj = 234\n",
    "print(\"The variable aObj is equal to \",aObj)"
   ]
  },
  {
   "cell_type": "code",
   "execution_count": 68,
   "metadata": {},
   "outputs": [
    {
     "name": "stdout",
     "output_type": "stream",
     "text": [
      "The variable aObj is still equal to  234\n"
     ]
    }
   ],
   "source": [
    "# Now that aObj has been set to a value, other cells in the notebook will also know its value.\n",
    "\n",
    "print(\"The variable aObj is still equal to \",aObj)"
   ]
  },
  {
   "cell_type": "code",
   "execution_count": 69,
   "metadata": {},
   "outputs": [],
   "source": [
    "# If we change the value of aObj in this cell and the reexecute the previous cell it will update to the newest value. \n",
    "##### DO THIS: Try it for yourself and see by executing this cell and reexcuting the previous ones.\n",
    "\n",
    "aObj = 1"
   ]
  },
  {
   "cell_type": "markdown",
   "metadata": {},
   "source": [
    "If you want to clear all your variables, you can do so by selecting \"Restart\" in the Kernel menu. Do so, and then execute the following code cell. Notice that the number next to the code cell is now 1. Once you have convinced yourself that the variable was cleared, rerun the notebook to this point. You can do this easily by selecting \"Run All Above\" in the Cell menu."
   ]
  },
  {
   "cell_type": "code",
   "execution_count": 70,
   "metadata": {},
   "outputs": [
    {
     "name": "stdout",
     "output_type": "stream",
     "text": [
      "The variable aObj is equal to  1\n"
     ]
    }
   ],
   "source": [
    "print(\"The variable aObj is equal to \",aObj)"
   ]
  },
  {
   "cell_type": "markdown",
   "metadata": {},
   "source": [
    "### Using python for calculations\n",
    "Python can easily be used for computations. The cell below gives three examples. Be sure you are clear on the syntax used."
   ]
  },
  {
   "cell_type": "code",
   "execution_count": 71,
   "metadata": {},
   "outputs": [
    {
     "name": "stdout",
     "output_type": "stream",
     "text": [
      "1104.0 0.36231884057971014 400.0\n"
     ]
    }
   ],
   "source": [
    "a = 20.0\n",
    "b = 55.2\n",
    "print(a*b,a/b,a**2)"
   ]
  },
  {
   "cell_type": "markdown",
   "metadata": {
    "collapsed": true
   },
   "source": [
    "#### Exercise 1.1\n",
    "\n",
    "In the next cell, calculate the following for c = 4 and a and b as defined above\n",
    "* $\\frac{a+b}{c}$\n",
    "* $\\sqrt{c}$\n",
    "* $a^c b^c$"
   ]
  },
  {
   "cell_type": "code",
   "execution_count": 72,
   "metadata": {},
   "outputs": [
    {
     "name": "stdout",
     "output_type": "stream",
     "text": [
      "18.8\n",
      "2.0\n",
      "1485512441856.0005\n"
     ]
    }
   ],
   "source": [
    "b = 55.2\n",
    "a = 20\n",
    "c = 4\n",
    "print((a+b)/c)\n",
    "print((c)**(1/2))\n",
    "print((a**c)*(b**c))"
   ]
  },
  {
   "cell_type": "markdown",
   "metadata": {},
   "source": [
    "### Data types"
   ]
  },
  {
   "cell_type": "code",
   "execution_count": 73,
   "metadata": {},
   "outputs": [
    {
     "name": "stdout",
     "output_type": "stream",
     "text": [
      "a =  20   and a's datatype is  <class 'int'>\n",
      "b =  55.2   and b's datatype is  <class 'float'>\n",
      "c =  (5+100j)   and c's datatype is  <class 'complex'>\n"
     ]
    }
   ],
   "source": [
    "# Numbers in python can be either integers, floating point (i.e. real numbers), or complex numbers.\n",
    "# \"type\" is a built-in Python function that will return the data type of an object.\n",
    "a = 20\n",
    "print(\"a = \",a,\"  and a's datatype is \",type(a)) \n",
    "b = 55.2\n",
    "print(\"b = \",b,\"  and b's datatype is \",type(b))\n",
    "c = 5+100j\n",
    "print(\"c = \",c,\"  and c's datatype is \",type(c))"
   ]
  },
  {
   "cell_type": "code",
   "execution_count": 74,
   "metadata": {},
   "outputs": [
    {
     "name": "stdout",
     "output_type": "stream",
     "text": [
      "a+b =  75.2   and a+b's datatype is  <class 'float'>\n",
      "b*c (276+5520j) and b*c's datatype is <class 'complex'>\n"
     ]
    }
   ],
   "source": [
    "##### DO THIS: try modifying the following line of code to add and multiply different numerical data types.\n",
    "# Make sure you understand the output\n",
    "print(\"a+b = \",a+b,\"  and a+b's datatype is \",type(a+b))\n",
    "print(\"b*c\",b*c,\"and b*c's datatype is\",type(b*c))"
   ]
  },
  {
   "cell_type": "code",
   "execution_count": 75,
   "metadata": {},
   "outputs": [
    {
     "name": "stdout",
     "output_type": "stream",
     "text": [
      "d =  Mechanics Lab   and d's datatype is  <class 'str'>\n"
     ]
    }
   ],
   "source": [
    "#Data may also be stored as a string. \n",
    "##### DO THIS: Modify the following line of code to set d equal to \"Mechanics Lab\"\n",
    "d = \"Mechanics Lab\"\n",
    "print(\"d = \",d,\"  and d's datatype is \",type(d))"
   ]
  },
  {
   "cell_type": "markdown",
   "metadata": {},
   "source": [
    "### Formatting output\n",
    "\n",
    "Sometimes you may want to format numerical output (for example, the a/b output from three cells above), so it doesn't print so many decimal places. The cell below shows you how.\n"
   ]
  },
  {
   "cell_type": "code",
   "execution_count": 76,
   "metadata": {},
   "outputs": [
    {
     "name": "stdout",
     "output_type": "stream",
     "text": [
      "(a/b) =  0.362\n",
      "a=20.000000\n",
      "(a/b) =  0.362\ta=20.000000\n"
     ]
    }
   ],
   "source": [
    "aOverbFormatedString = \"(a/b) = {:6.3f}\".format(a/b)  \n",
    "# 6 places, with 3 numbers after the decimal point\n",
    "\n",
    "print(aOverbFormatedString)\n",
    "\n",
    "aFormattedString = \"a={:0f}\".format(a)\n",
    "# 6 places of integer with leading spaces.  (The d signifies an integer.)\n",
    "\n",
    "print(aFormattedString)\n",
    "\n",
    "newString = aOverbFormatedString + \"\\t\" + aFormattedString\n",
    "# \\t is the same as hitting the tab key\n",
    "\n",
    "print(newString)\n",
    "\n",
    "##### DO THIS: modify this cell to print each of the variables above to see the results.\n",
    "# Hint: try hitting tab when you are typing variables, especially those with long names"
   ]
  },
  {
   "cell_type": "markdown",
   "metadata": {},
   "source": [
    "#### Exercise 1.2\n",
    "\n",
    "In the cell below, print out first 10 digits of pi.  *Hint: Python has a stored version  \n",
    "of $\\pi$.  See if you can find how to call it. The web might be especially useful here.*"
   ]
  },
  {
   "cell_type": "code",
   "execution_count": 77,
   "metadata": {},
   "outputs": [
    {
     "name": "stdout",
     "output_type": "stream",
     "text": [
      "pi = 3.1415926536\n"
     ]
    }
   ],
   "source": [
    "ai = 'pi = {:0.10f}'.format(np.pi)\n",
    "print(ai)"
   ]
  },
  {
   "cell_type": "markdown",
   "metadata": {},
   "source": [
    "## Lists and Arrays\n",
    "\n",
    "Frequently it is useful to store sets of data. Python allows you to do this either using lists or arrays. Lists allow you to store multiple types of data in one list. Arrays only store one type of data but they have the advantage that you can preform vector operations on them, as illustrated below.\n",
    "\n",
    "Arrays are defined in the Numpy package, the fundamental package for scientific computing in python. This package has many built-in functions that you will find useful. You can get a list of all numpy built-in functions from `np.<tab>`. Numpy  functions can be called with or without the `\"np.\"` prefix as long as you executed the `%pylab` command at the beginning of your notebook.  "
   ]
  },
  {
   "cell_type": "code",
   "execution_count": 78,
   "metadata": {},
   "outputs": [
    {
     "name": "stdout",
     "output_type": "stream",
     "text": [
      "Here's a list of integers:  [1, 2, 3, 4, 5, 6]\n",
      "This list is of type: <class 'list'>, and length 6\n",
      "This list is of mixed datatype, consisting of integer variables, strings, and integers:  [20, 'b', 'cdefg', 'h', 'i', 3, 5, 7]\n",
      "It is of type: <class 'list'>, and length 8\n"
     ]
    }
   ],
   "source": [
    "# A list of objects can contain variables of any datatype\n",
    "#Here is how you define a list.\n",
    "\n",
    "List1 = [1, 2, 3, 4, 5, 6]\n",
    "print(\"Here's a list of integers: \", List1)\n",
    "print (\"This list is of type: {}, and length {}\".format(type(List1), len(List1)))\n",
    "\n",
    "List2 = [a, \"b\", \"cdefg\", \"h\", \"i\", 3, 5, 7]\n",
    "print(\"This list is of mixed datatype, consisting of integer variables, strings, and integers: \", List2)\n",
    "print (\"It is of type: {}, and length {}\".format(type(List2), len(List2)))"
   ]
  },
  {
   "cell_type": "code",
   "execution_count": 79,
   "metadata": {},
   "outputs": [
    {
     "name": "stdout",
     "output_type": "stream",
     "text": [
      "nArray1 from np.array  [1 2 3 5 6]\n",
      "nArray2 from array  [1 2 3 5 6]\n"
     ]
    }
   ],
   "source": [
    "# Numpy arrays are collections of the same type of object.\n",
    "\n",
    "nArray1 = np.array([1,2,3,5,6])\n",
    "print(\"nArray1 from np.array \",nArray1)\n",
    "nArray2 = array([1,2,3,5,6])   #same result--the np. is optional with %pylab magic command\n",
    "print(\"nArray2 from array \",nArray2)"
   ]
  },
  {
   "cell_type": "code",
   "execution_count": 80,
   "metadata": {},
   "outputs": [
    {
     "name": "stdout",
     "output_type": "stream",
     "text": [
      "Here's the same integer list turned into a floating point array:  [1. 2. 3. 4. 5. 6.]\n",
      "So we would get an error if we try to convert List2 into floating point numbers:\n"
     ]
    }
   ],
   "source": [
    "nArrayConverted = array(List1,'float')\n",
    "print (\"Here's the same integer list turned into a floating point array: \",nArrayConverted)\n",
    "\n",
    "print(\"So we would get an error if we try to convert List2 into floating point numbers:\")\n",
    "##### DO THIS: try uncommenting the following line:\n",
    "#nArrayConverted = array(List2,'float')"
   ]
  },
  {
   "cell_type": "code",
   "execution_count": 81,
   "metadata": {},
   "outputs": [
    {
     "name": "stdout",
     "output_type": "stream",
     "text": [
      "[1, 2, 3]\n",
      "[1, 2, 3, 1, 2, 3, 1, 2, 3, 1, 2, 3, 1, 2, 3]\n",
      "[ 5 10 15]\n"
     ]
    }
   ],
   "source": [
    "# Here's an example to illustrate the difference between lists and arrays. Do you see the difference?\n",
    "\n",
    "a = [1,2,3] #a list\n",
    "print(a)\n",
    "print (5*a)\n",
    "b = np.array([1,2,3]) #an array\n",
    "print(5*b)"
   ]
  },
  {
   "cell_type": "code",
   "execution_count": 82,
   "metadata": {},
   "outputs": [
    {
     "name": "stdout",
     "output_type": "stream",
     "text": [
      "[6 7 8]\n"
     ]
    },
    {
     "ename": "TypeError",
     "evalue": "unsupported operand type(s) for +: 'int' and 'list'",
     "output_type": "error",
     "traceback": [
      "\u001b[1;31m---------------------------------------------------------------------------\u001b[0m",
      "\u001b[1;31mTypeError\u001b[0m                                 Traceback (most recent call last)",
      "\u001b[1;32m<ipython-input-82-2dc10f7a0200>\u001b[0m in \u001b[0;36m<module>\u001b[1;34m\u001b[0m\n\u001b[0;32m      6\u001b[0m \u001b[1;33m\u001b[0m\u001b[0m\n\u001b[0;32m      7\u001b[0m \u001b[1;33m\u001b[0m\u001b[0m\n\u001b[1;32m----> 8\u001b[1;33m \u001b[0mprint\u001b[0m\u001b[1;33m(\u001b[0m\u001b[1;36m5\u001b[0m \u001b[1;33m+\u001b[0m \u001b[0ma\u001b[0m\u001b[1;33m)\u001b[0m\u001b[1;33m\u001b[0m\u001b[1;33m\u001b[0m\u001b[0m\n\u001b[0m\u001b[0;32m      9\u001b[0m \u001b[1;33m\u001b[0m\u001b[0m\n\u001b[0;32m     10\u001b[0m \u001b[1;31m# Likewise, you can multiply two arrays together, provided the arrays are the same length.\u001b[0m\u001b[1;33m\u001b[0m\u001b[1;33m\u001b[0m\u001b[1;33m\u001b[0m\u001b[0m\n",
      "\u001b[1;31mTypeError\u001b[0m: unsupported operand type(s) for +: 'int' and 'list'"
     ]
    }
   ],
   "source": [
    "# Similarly, you can add a constant to an array\n",
    "print(5 + b)\n",
    "# but not to a list. \n",
    "\n",
    "##### DO THIS: try uncommenting out the next line to see\n",
    "\n",
    "\n",
    "print(5 + a)\n",
    "\n",
    "# Likewise, you can multiply two arrays together, provided the arrays are the same length. \n",
    "# Notice that this results in element-wise multiplication, not a dot product nor a cross product.\n",
    "# Numpy has separate routines for that you can read about at \n",
    "# https://docs.scipy.org/doc/numpy/reference/generated/numpy.dot.html and\n",
    "# https://docs.scipy.org/doc/numpy/reference/generated/numpy.cross.html\n",
    "c = array([4,5,6])\n",
    "print(b*c)\n"
   ]
  },
  {
   "cell_type": "markdown",
   "metadata": {},
   "source": [
    "#### Exercise 1.3\n",
    "\n",
    "In the cell below define two arrays: even = (2,4,6,8) and odd = (1,3,5,7). Add 3 to the even array and multiply the odd array by 2. Then multiply the two arrays together and print your answer. See if you can do everything except defining the arrays all together in one line of code.\n"
   ]
  },
  {
   "cell_type": "code",
   "execution_count": null,
   "metadata": {},
   "outputs": [],
   "source": [
    "even = array([2,4,6,8])\n",
    "odd = array([1,3,5,7])\n",
    "print(3 + even)\n",
    "print(2 * odd)\n",
    "print((3 + even) * (2 * odd))"
   ]
  },
  {
   "cell_type": "markdown",
   "metadata": {},
   "source": [
    "### Making arrays:\n",
    "\n",
    "There are two main ways to generate arrays of regularly-spaced numbers  \n",
    "in Python – `linspace` and `arange`.  An example of each is shown below.  \n",
    "Try to understand the purpose of each argument in these two calls."
   ]
  },
  {
   "cell_type": "code",
   "execution_count": 85,
   "metadata": {},
   "outputs": [
    {
     "name": "stdout",
     "output_type": "stream",
     "text": [
      "array generated with 'arange' [0.  0.1 0.2 0.3 0.4 0.5 0.6 0.7 0.8 0.9 1.  1.1 1.2 1.3 1.4 1.5 1.6 1.7\n",
      " 1.8 1.9 2.  2.1 2.2 2.3 2.4 2.5 2.6 2.7 2.8 2.9]\n",
      "30\n",
      "array generated with 'linspace' [0.         0.33333333 0.66666667 1.         1.33333333 1.66666667\n",
      " 2.         2.33333333 2.66666667 3.        ]\n"
     ]
    }
   ],
   "source": [
    "array1 = arange(0,3, 0.1)\n",
    "print(\"array generated with 'arange'\", array1)\n",
    "print(len(array1))\n",
    "\n",
    "array2 = linspace(0, 3, 10)\n",
    "print(\"array generated with 'linspace'\", array2)"
   ]
  },
  {
   "cell_type": "markdown",
   "metadata": {},
   "source": [
    "#### Exercise 1.4\n",
    "\n",
    "Generate a regularly-spaced array with values ranging from 1 to 5 (inclusive) and  \n",
    "spacing between array values of 0.1.  Do this with both `arange` and with `linspace`,  \n",
    "and print out your results in the cell below.\n",
    "\n",
    "*Coding style tip: rather than doing any necessary calculations elsewhere (say, a piece of scratch paper), include those calculation in the cell block. This way, you'll have a record of what you did and it will be easy to reproduce the calculations for different values, for instance an array that goes from 1 to 6.*"
   ]
  },
  {
   "cell_type": "code",
   "execution_count": 90,
   "metadata": {},
   "outputs": [
    {
     "name": "stdout",
     "output_type": "stream",
     "text": [
      "[1.  1.1 1.2 1.3 1.4 1.5 1.6 1.7 1.8 1.9 2.  2.1 2.2 2.3 2.4 2.5 2.6 2.7\n",
      " 2.8 2.9 3.  3.1 3.2 3.3 3.4 3.5 3.6 3.7 3.8 3.9 4.  4.1 4.2 4.3 4.4 4.5\n",
      " 4.6 4.7 4.8 4.9 5. ]\n",
      "[1.  1.1 1.2 1.3 1.4 1.5 1.6 1.7 1.8 1.9 2.  2.1 2.2 2.3 2.4 2.5 2.6 2.7\n",
      " 2.8 2.9 3.  3.1 3.2 3.3 3.4 3.5 3.6 3.7 3.8 3.9 4.  4.1 4.2 4.3 4.4 4.5\n",
      " 4.6 4.7 4.8 4.9 5. ]\n"
     ]
    }
   ],
   "source": [
    "array3 = arange(1,5.1, 0.1)\n",
    "print (array3)\n",
    "array4 = linspace(1,5,41)\n",
    "print(array4)"
   ]
  },
  {
   "cell_type": "markdown",
   "metadata": {
    "collapsed": true
   },
   "source": [
    "### Indexing and slicing \n",
    "Data is stored in lists and arrays by *index*, with the index count starting at zero. One tool that makes lists and arrays especially powerful is the ability to select different elements from them. The block of code below will show you several examples of how to do so."
   ]
  },
  {
   "cell_type": "code",
   "execution_count": 95,
   "metadata": {},
   "outputs": [
    {
     "name": "stdout",
     "output_type": "stream",
     "text": [
      " We begin with a comma-separated array of integers:  [ 1 -6  5  0  0  9  5 -4  1  2  2  5 20  3]\n",
      " The element at index 3 is:   0\n",
      " The first element is:  1\n",
      " The last element is:  3\n",
      " The first 4 elements are:  [ 1 -6  5  0]\n",
      " The last 5 elements are:  [ 2  2  5 20  3]\n",
      " The index of the largest element in the array is:  12\n",
      " The value of the largest element in the array is:  20\n",
      " These are the indices of arrayA that are not 0:  (array([ 0,  1,  2,  5,  6,  7,  8,  9, 10, 11, 12, 13], dtype=int64),)\n",
      " These are the non zero values in  arrayA:  [ 1 -6  5  9  5 -4  1  2  2  5 20  3]\n",
      " These are the indices of arrayA that have zeros:  (array([3, 4], dtype=int64),)\n",
      " Which will (of course) yield  [0 0]\n"
     ]
    }
   ],
   "source": [
    "##### DO THIS: read this code first and try to predict what the output will look like below.\n",
    "# Write the predictions on a piece of paper,\n",
    "# Then execute this cell and scroll down to see if you were correct.\n",
    "\n",
    "arrayA = array([1,-6,5,0,0,9,5,-4,1,2,2,5,20,3])\n",
    "\n",
    "print(\" We begin with a comma-separated array of integers: \", arrayA)\n",
    "print(\" The element at index 3 is:  \",arrayA[3])\n",
    "print(\" The first element is: \",arrayA[0])\n",
    "print(\" The last element is: \",arrayA[-1])\n",
    "print(\" The first 4 elements are: \",arrayA[0:4])\n",
    "print(\" The last 5 elements are: \",arrayA[-5:])  #the 5th element from the end to the end\n",
    "print(\" The index of the largest element in the array is: \", argmax(arrayA)) #argmax gives the index, not the value\n",
    "print(\" The value of the largest element in the array is: \",arrayA[argmax(arrayA)])\n",
    "\n",
    "notzeroindices = nonzero(arrayA)\n",
    "print(\" These are the indices of arrayA that are not 0: \",notzeroindices)\n",
    "print(\" These are the non zero values in  arrayA: \",arrayA[notzeroindices])\n",
    "print(\" These are the indices of arrayA that have zeros: \",nonzero(arrayA==0))\n",
    "print(\" Which will (of course) yield \",arrayA[nonzero(arrayA==0)])"
   ]
  },
  {
   "cell_type": "markdown",
   "metadata": {},
   "source": [
    "#### Exercise 1.5\n",
    "\n",
    "Write code to find and print the largest element in the first half of arrayA. Don't hard-code in any numbers; your code should work just as well if you were to change arrayA to a different length.\n",
    "\n",
    "*Hint:* the function len() will return the length of an array and round() will round a float to an integer."
   ]
  },
  {
   "cell_type": "code",
   "execution_count": 99,
   "metadata": {},
   "outputs": [
    {
     "name": "stdout",
     "output_type": "stream",
     "text": [
      "9\n"
     ]
    }
   ],
   "source": [
    "halflist = arrayA[:int((len(arrayA))/2 - 1)]\n",
    "print(arrayA[argmax(halflist)])"
   ]
  },
  {
   "cell_type": "code",
   "execution_count": 100,
   "metadata": {},
   "outputs": [
    {
     "name": "stdout",
     "output_type": "stream",
     "text": [
      " Define a new 2-dimensional array as arrayB :\n",
      " [[0 0]\n",
      " [2 3]\n",
      " [4 5]]\n",
      " The zeroth element of row 1 in arrayB:  2\n",
      " Slice the zeroth row of arrayB:  [0 0]\n",
      " Slice row 1 of arrayB:  [2 3]\n",
      " Slice the zeroth column of arrayB:  [0 2 4]\n",
      " Pick out the first two rows of arrayB: \n",
      " [[0 0]\n",
      " [2 3]]\n"
     ]
    }
   ],
   "source": [
    "# Arrays can also have more than one dimension. \n",
    "# When a multi-dimensional array is defined, as below, indices can be specified to select individual elements\n",
    "# or entire columns and rows.\n",
    "\n",
    "arrayB = array([[0,0],[2,3],[4,5]])\n",
    "print(\" Define a new 2-dimensional array as arrayB :\\n\",arrayB)\n",
    "print(\" The zeroth element of row 1 in arrayB: \",arrayB[1,0])\n",
    "print(\" Slice the zeroth row of arrayB: \",arrayB[0,:])\n",
    "\n",
    "print(\" Slice row 1 of arrayB: \",arrayB[1,:])\n",
    "print(\" Slice the zeroth column of arrayB: \",arrayB[:,0])\n",
    "print(\" Pick out the first two rows of arrayB: \\n\",arrayB[0:2,:])\n"
   ]
  },
  {
   "cell_type": "markdown",
   "metadata": {},
   "source": [
    "#### Exercise 1.6\n",
    "\n",
    "Write code to print out the following for arrayB: 1) the element in column 1 and row 2; 2) the entire column 1; and 3) the entire row 2."
   ]
  },
  {
   "cell_type": "code",
   "execution_count": 107,
   "metadata": {},
   "outputs": [
    {
     "name": "stdout",
     "output_type": "stream",
     "text": [
      "2 [0 2 4] [2 3]\n"
     ]
    }
   ],
   "source": [
    "c1r2 = arrayB[1,0]\n",
    "c1 = arrayB[:,0]\n",
    "r2 = arrayB[1,:]\n",
    "print(c1r2 , c1 , r2)\n"
   ]
  },
  {
   "cell_type": "markdown",
   "metadata": {},
   "source": [
    "## Plotting\n",
    "\n",
    "One of the benefits of using python is that it makes it very easy to create attractive graphics. In particular, we'll be using it to plot data in this class. \n",
    "\n",
    "In learning how to generate a plot, the examples in the matplotlib references (in particular http://matplotlib.org/) are good places to start.  There are some confusing differences between using pylab and pyplot plotting commands. This might not mean much to you right now, but just keep it in the back of your mind. Pylab is usually used for interactive plotting.  Also, don't forget that a given pylab figure must be completed within a cell. You cannot create a figure in one cell and then set the title in a later cell. That is, unless you know what you are doing (better not to worry about this now). Pyplot is more flexible and relies on created specific class instances which can carry from cell to cell.  It is the one we will use below, which is called with the command `plt`.\n",
    "\n",
    "We can return to these issues if necessary. My advice, stick to the easy stuff as much as possible, and follow the examples you find in class and online."
   ]
  },
  {
   "cell_type": "markdown",
   "metadata": {},
   "source": [
    "### An Example:\n",
    "First let's make a basic plot of `sin(x)`:"
   ]
  },
  {
   "cell_type": "code",
   "execution_count": 109,
   "metadata": {},
   "outputs": [],
   "source": [
    "N_PTS =10000  #number of points\n",
    "x = linspace(0.0,4*pi,N_PTS) \n",
    "#create an array with values between zero and 4*pi with N_PTS total entries\n",
    "y = sin(x)"
   ]
  },
  {
   "cell_type": "code",
   "execution_count": 117,
   "metadata": {},
   "outputs": [
    {
     "data": {
      "image/png": "[encoded data removed]",
      "text/plain": [
       "<Figure size 432x288 with 1 Axes>"
      ]
     },
     "metadata": {
      "needs_background": "light"
     },
     "output_type": "display_data"
    }
   ],
   "source": [
    "#plotting:\n",
    "\n",
    "plt.figure(1)\n",
    "plt.plot(x, y) #plot y vs. x\n",
    "plt.show()"
   ]
  },
  {
   "cell_type": "markdown",
   "metadata": {},
   "source": [
    "This is ok, but not great for a number of reasons.  The minimum and maximum values chosen on the x and y axes are not ideal, and there are no labels to denote what you are plotting.  For example, I can set the x-axis limits using the following set of commands: "
   ]
  },
  {
   "cell_type": "code",
   "execution_count": 118,
   "metadata": {},
   "outputs": [
    {
     "data": {
      "image/png": "[encoded data removed]",
      "text/plain": [
       "<Figure size 432x288 with 1 Axes>"
      ]
     },
     "metadata": {
      "needs_background": "light"
     },
     "output_type": "display_data"
    }
   ],
   "source": [
    "#plotting better:\n",
    "\n",
    "plt.figure(1)\n",
    "plt.plot(x, y) #plot y vs. x\n",
    "plt.xlim(0, 4*pi)\n",
    "plt.show()"
   ]
  },
  {
   "cell_type": "markdown",
   "metadata": {},
   "source": [
    "#### Exercise 1.7\n",
    "\n",
    "Try to make a nicer version of the same plot that looks like the one pasted in below:  \n",
    "\n",
    "*Hint:*  You can type `plt.[tab]` to list all of the pyplot (`plt`) commands.  Once you have typed in a new command, typing `shift-tab` will provide you with additional help for that command.  Also, google can be extremely helpful for finding sample code and examples. Just make sure to obey the rules of academic honesty and never pass off someone else's work as your own!\n",
    "\n",
    "<img src=\"image1.png\">\n",
    "\n"
   ]
  },
  {
   "cell_type": "code",
   "execution_count": 162,
   "metadata": {},
   "outputs": [
    {
     "data": {
      "text/plain": [
       "Text(0.5, 1.0, 'sin(x)')"
      ]
     },
     "execution_count": 162,
     "metadata": {},
     "output_type": "execute_result"
    },
    {
     "data": {
      "image/png": "[encoded data removed]",
      "text/plain": [
       "<Figure size 432x288 with 1 Axes>"
      ]
     },
     "metadata": {
      "needs_background": "light"
     },
     "output_type": "display_data"
    }
   ],
   "source": [
    "# Plot commands go here:\n",
    "\n",
    "#plotting better:\n",
    "\n",
    "plt.figure(1)\n",
    "plt.plot(x, y, color ='g', linewidth = 4.0) #plot y vs. x\n",
    "plt.xlim(0, 4*pi)\n",
    "plt.ylim(-1.2, 1.2)\n",
    "plt.tick_params(axis = 'both', direction = 'in', length = 4)\n",
    "plt.tick_params(top = True, right = True)\n",
    "plt.ylabel('y')\n",
    "plt.xlabel('x')\n",
    "plt.title('sin(x)')\n",
    "\n"
   ]
  },
  {
   "cell_type": "markdown",
   "metadata": {},
   "source": [
    "Now that you are introduced to python, let's use it to understand an important mathematical concept: Taylor Series."
   ]
  },
  {
   "cell_type": "markdown",
   "metadata": {},
   "source": [
    "# Learning about Taylor Series:\n",
    "\n",
    "Assume a function $f(x)$ can be approximated by a power series of the form:\n",
    "\n",
    "$$ f(x) = a_{0} + a_{1}x + a_{2}x^{2} + ...  a_{n}x^{n}$$\n",
    "\n",
    "We would like to find the valued of the coefficients $a_{0}$, $a_{1}$, $a_{2}$, etc. that satisfy this equation.\n",
    "\n",
    "We can start by taking a derivative of $f(x)$:\n",
    "\n",
    "$$ f'(x) = a_{1} + 2 a_{2}x + 3 a_{3}x^{2} ...  n a_{n}x^{n-1}$$\n",
    "\n",
    "Next we'll take the second and third derivatives:\n",
    "\n",
    "$$ f''(x) = 2 a_{2} + (3*2) a_{3}x + (4*3) a_{4}x^{2} ...  n(n-1) a_{n}x^{n-2}$$\n",
    "\n",
    "$$ f'''(x) = (3*2) a_{3} + (4*3*2) a_{4}x + 5*4*3 a_{5}x^{2} ...  n(n-1)(n-2) a_{n}x^{n-3}$$\n",
    "\n",
    "$$ etc.$$\n",
    "\n",
    "We can now determine the values of the $a_{n}$ coefficients by choosing to approximate $f(x)$ about $x=0$.  Plugging in $x=0$ to the above equations gives:\n",
    "\n",
    "$$a_{0} = f(0)$$\n",
    "\n",
    "$$a_{1} = f'(0)$$\n",
    "\n",
    "$$a_{2} = \\frac{1}{2}f''(0)$$\n",
    "\n",
    "$$a_{3} = \\frac{1}{6}f'''(0)$$\n",
    "\n",
    "$$.$$\n",
    "$$.$$\n",
    "$$.$$\n",
    "\n",
    "$$a_{n} = \\frac{1}{n!}f^{(n)}(0) $$\n",
    "\n",
    "and, \n",
    "\n",
    "$$ f(x) = f(0) + \\frac{f'(0)}{1!}x + \\frac{f''(0)}{2!}x^{2} + ...  \\frac{f^{(n)}(0)}{n!}x^{n} $$\n",
    "\n",
    "\n",
    "We can try this out for the example of $y = \\sin(x)$:\n",
    "\n",
    "$$ y(0) = 0$$\n",
    "\n",
    "$$y'(0) = 1$$ \n",
    "\n",
    "$$etc.$$\n",
    "\n",
    "Therefore, \n",
    "\n",
    "$$ \\sin(x) = x ...$$\n",
    "\n",
    "(i.e., the small angle approximation)\n",
    "\n",
    "\n",
    "Taking just the first order term in a Taylor series is typically called a \"first order Taylor approximation\".  Taking all terms up to 3rd order would be called a 3rd order Taylor approximation.  Let's try plotting some Taylor approximations of $\\sin(x)$ about the point $x=0$:\n",
    "\n"
   ]
  },
  {
   "cell_type": "markdown",
   "metadata": {},
   "source": [
    "#### Exercise 1.8\n",
    "The cell below will plot the original function and its 1st order Taylor approxmation.\n",
    "Modify it to also include higher-order Taylor approximations up to 5th order. ***Over what range of x values is the Taylor series a good approximation for sin(x)?*** (Write your response here.)\n",
    "---\n",
    "$x \\in \\{ 0 , 3.5\\}$ is a good approximation for $sin(x)$."
   ]
  },
  {
   "cell_type": "code",
   "execution_count": 172,
   "metadata": {},
   "outputs": [
    {
     "data": {
      "text/plain": [
       "<matplotlib.legend.Legend at 0x1d929854978>"
      ]
     },
     "execution_count": 172,
     "metadata": {},
     "output_type": "execute_result"
    },
    {
     "data": {
      "image/png": "[encoded data removed]",
      "text/plain": [
       "<Figure size 432x288 with 1 Axes>"
      ]
     },
     "metadata": {
      "needs_background": "light"
     },
     "output_type": "display_data"
    }
   ],
   "source": [
    "y1 = x #1st order Taylor approximation\n",
    "y3 = y1 - x**3/math.factorial(3)\n",
    "y5 = y3 + x**5/math.factorial(5)\n",
    "y7 = y5 - x**7/math.factorial(7)\n",
    "y9 = y7 + x**9/math.factorial(9)\n",
    "\n",
    "#plotting:\n",
    "plt.figure(1)\n",
    "plt.ylim(-2.,2.0)\n",
    "plt.xlim(0, 2*pi)\n",
    "plt.plot(x, y, color='red', label = 'sin(x)') #plot sin(x)\n",
    "plt.plot(x, y1, color='blue', label = 'y1') #plot the 1st order Taylor approx for sin(x)\n",
    "plt.plot(x, y3, color='green', label = 'y3')\n",
    "plt.plot(x, y5, color='brown', label = 'y5')\n",
    "plt.plot(x, y7, color='black', label = 'y7')\n",
    "plt.plot(x, y9, color='cyan', label = 'y9')\n",
    "plt.xlabel('x')\n",
    "plt.ylabel('y')\n",
    "plt.title('Sin(x)')\n",
    "plt.legend()\n"
   ]
  },
  {
   "cell_type": "markdown",
   "metadata": {},
   "source": [
    "### Taylor series about an arbitrary x value:\n",
    "\n",
    "So far, we have only looked at Taylor series about the point $x=0$.  This is techically a special case of a Taylor series, also called a Maclaurin series.  In general, to compute a Taylor series about an arbitrary location of $x = a$, we must make the following alteration to our Taylor series expression:\n",
    "\n",
    "$$ f(x) = f(a) + \\frac{f'(a)}{1!}(x-a) + \\frac{f''(a)}{2!}(x-a)^{2} + ...  \\frac{f^{(n)}(a)}{n!}(x-a)^{n} $$"
   ]
  },
  {
   "cell_type": "markdown",
   "metadata": {},
   "source": [
    "#### Exercise 1.9\n",
    "\n",
    "1) On a separate piece of paper, show that the general Taylor series expression above reduces to the Maclaurin series when $a = 0$, i.e. when the expansion is done about the origin.  \n",
    "\n",
    "2) On a separate piece of paper, find an expression for the third order Taylor series for $\\sin(x)$ at $x = 3.0$. That is, $a=3$, and $x$ is a variable representing a number close to 3.\n",
    "\n",
    "3) In the cell below, plot $\\sin(x)$ and your Taylor series approximation around $a = 3$ using the same set of axes.\n"
   ]
  },
  {
   "cell_type": "code",
   "execution_count": 177,
   "metadata": {},
   "outputs": [
    {
     "data": {
      "text/plain": [
       "<matplotlib.legend.Legend at 0x1d92ac3bf98>"
      ]
     },
     "execution_count": 177,
     "metadata": {},
     "output_type": "execute_result"
    },
    {
     "data": {
      "image/png": "[encoded data removed]",
      "text/plain": [
       "<Figure size 432x288 with 1 Axes>"
      ]
     },
     "metadata": {
      "needs_background": "light"
     },
     "output_type": "display_data"
    }
   ],
   "source": [
    "f1 = sin(3) + 0*x \n",
    "f2 = f1 + cos(3)*(x-3)\n",
    "f3 = f2 - sin(3)*(x-3)**2/math.factorial(2)\n",
    "f4 = f3 + cos(3)*(x-3)**3/math.factorial(3)\n",
    "\n",
    "plt.figure(2)\n",
    "plt.ylim(-2.,2.0)\n",
    "plt.xlim(0, 2*pi)\n",
    "plt.plot(x, y, color='red', label = 'sin(x)') #plot sin(x)\n",
    "plt.plot(x, f1, color='blue', label = 'f1') #plot the 1st order Taylor approx for sin(x)\n",
    "plt.plot(x, f2, color='green', label = 'f2')\n",
    "plt.plot(x, f3, color='brown', label = 'f3')\n",
    "plt.plot(x, f4, color='black', label = 'f4')\n",
    "plt.xlabel('x')\n",
    "plt.ylabel('y')\n",
    "plt.title('Sin(x)')\n",
    "plt.legend()"
   ]
  },
  {
   "cell_type": "markdown",
   "metadata": {},
   "source": [
    "## Check-out\n",
    "#### Exercise 1.10\n",
    "\n",
    "Briefly summarize in the cell below the ideas of today's lab."
   ]
  },
  {
   "cell_type": "markdown",
   "metadata": {},
   "source": [
    "numpy matpltlib array arange taylor series \n"
   ]
  },
  {
   "cell_type": "markdown",
   "metadata": {},
   "source": [
    "## Challenge Problems"
   ]
  },
  {
   "cell_type": "markdown",
   "metadata": {
    "collapsed": true
   },
   "source": [
    "#### Exercise 1.11\n",
    "\n",
    "On a separate piece of paper, derive Taylor series expressions for $\\cos(x)$, $e^{x}$, $\\ln(1+x)$, and $(1+x)^{n}$ (where $n$ is a constant) around x = 0.  In the final two cases, comment on the range of $x$ and $n$ values that will provide a convergent solution.  Then plot the first three terms of the Taylor approximations for each function in separate plot windows in the cells below:\n",
    "\n",
    "** Note: The Taylor series that you just derived are used often enough in physics that it is worth committing them to memory! **"
   ]
  },
  {
   "cell_type": "code",
   "execution_count": 178,
   "metadata": {},
   "outputs": [
    {
     "data": {
      "text/plain": [
       "Text(0.5, 1.0, 'cos(x)')"
      ]
     },
     "execution_count": 178,
     "metadata": {},
     "output_type": "execute_result"
    },
    {
     "data": {
      "image/png": "[encoded data removed]",
      "text/plain": [
       "<Figure size 432x288 with 1 Axes>"
      ]
     },
     "metadata": {
      "needs_background": "light"
     },
     "output_type": "display_data"
    }
   ],
   "source": [
    "# cos(x)\n",
    "\n",
    "y = cos(x)\n",
    "y3 =  1 - x**2/2 + x**4/24\n",
    "\n",
    "plt.figure(1)\n",
    "plt.ylim(-2.,2.0)\n",
    "plt.xlim(0, 4*pi)\n",
    "plt.plot(x, y, color='red') #plot y(x)\n",
    "plt.plot(x, y3, color='blue') #plot Taylor series approximation\n",
    "plt.xlabel('x')\n",
    "plt.ylabel('y')\n",
    "plt.title('cos(x)')\n",
    "\n"
   ]
  },
  {
   "cell_type": "code",
   "execution_count": null,
   "metadata": {},
   "outputs": [],
   "source": [
    "# e^x\n",
    "\n"
   ]
  },
  {
   "cell_type": "code",
   "execution_count": null,
   "metadata": {},
   "outputs": [],
   "source": [
    "# ln(1+x)\n",
    "# x > -1\n"
   ]
  },
  {
   "cell_type": "code",
   "execution_count": null,
   "metadata": {},
   "outputs": [],
   "source": [
    "# (1+x)^n\n",
    "\n"
   ]
  }
 ],
 "metadata": {
  "kernelspec": {
   "display_name": "Python 3",
   "language": "python",
   "name": "python3"
  },
  "language_info": {
   "codemirror_mode": {
    "name": "ipython",
    "version": 3
   },
   "file_extension": ".py",
   "mimetype": "text/x-python",
   "name": "python",
   "nbconvert_exporter": "python",
   "pygments_lexer": "ipython3",
   "version": "3.6.7"
  }
 },
 "nbformat": 4,
 "nbformat_minor": 1
}
