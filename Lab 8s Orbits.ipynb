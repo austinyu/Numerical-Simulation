{
 "cells": [
  {
   "cell_type": "code",
   "execution_count": null,
   "metadata": {},
   "outputs": [],
   "source": [
    "%pylab inline\n",
    "from scipy.integrate import odeint  # the differential equation integrator\n",
    "from matplotlib import animation    # animation package (for later)"
   ]
  },
  {
   "cell_type": "markdown",
   "metadata": {},
   "source": [
    "# Mechanics Lab 8 – Keplerian and Non-Keplerian Orbits\n",
    "\n",
    "Today we will be looking at numerical solutions to the two-body problem.  We will work these problems in the center-of-mass frame of reference. As we often do in computing, we will first attempt a calculation to which we know the answer.  We will then attack a second problem that is more complex and cannot be solved analytically. We will start out by reducing the two-body problem to a one-body problem by solving for and plotting the motion of the *reduced mass* about the fixed center of mass of the system.  Later in the lab we will switch to plotting the motion of *both* bodies with a simple coordinate transform.  \n",
    "\n",
    "Our trial case will be that of a Keplerian orbit (i.e. one obeying the $ 1/r^{2} $ force law of Newtonian gravity).  We will then try out non-Keplerian orbits that obey different force laws.  We will do all of our calculations today in a polar coordinate system.  \n",
    "\n",
    "\n",
    "## Objectives\n",
    "\n",
    "In this lab you will \n",
    "* model circular, elliptical and hyperbolic Keplerian orbits,\n",
    "* visualize the motion of the two bodies with and without a movie,\n",
    "* and model a non-Keplerian orbit.\n"
   ]
  },
  {
   "cell_type": "markdown",
   "metadata": {},
   "source": [
    "## Circular Keplerian Orbit\n",
    "### Setting the initial conditions and other physical parameters\n",
    "#### Exercise 8.1 \n",
    "Let's work in a unit system where $G = 1.0$.  If the two masses are $m_{1} = 5$ and $m_{2} = 1$ and they start at a separation of $r_{0} = 2.0$, fill in the rest of the constants and initial conditions such that the reduced mass will undergo a *circular* (Keplerian) orbit of radius 2.0 around the center of mass.\n",
    "\n",
    "*Check your values with an instructor before proceeding.*\n",
    "\n",
    "*Coding style tip: rather than doing any necessary calculations elsewhere (say, a piece of scratch paper), include those calculation in the cell block. This way, you'll have a record of what you did and it will be easy to reproduce the calculations for different values.*"
   ]
  },
  {
   "cell_type": "code",
   "execution_count": null,
   "metadata": {},
   "outputs": [],
   "source": [
    "# Initial conditions and constants\n",
    "G_grav = 1. #FIX\n",
    "r0 = 1. #FIX\n",
    "phi0 = 1. #FIX\n",
    "m1 = 1. #FIX\n",
    "m2 = 1. #FIX\n",
    "\n",
    "mu = 1. #FIX\n",
    "gamma_g = 1. #FIX\n",
    "ang_mom = 1. #FIX\n",
    "drdt0 = 1. #FIX\n",
    "\n",
    "\n"
   ]
  },
  {
   "cell_type": "markdown",
   "metadata": {},
   "source": [
    "## Numerical solution\n",
    "#### Exercise 8.2 \n",
    "First, solve the equations of motion numerically. Define a function that will return the derivatives for your 3 variables ($r$, $\\dot{r}$, and $\\phi$). Then, use  `odeint` to solve for \\\\(0 \\leq t \\ \\leq 20 \\\\).  Include mu, gamma_g and ang_mom as parameters sent to 'odeint', similarly to how you did in labs 4 and 5."
   ]
  },
  {
   "cell_type": "code",
   "execution_count": null,
   "metadata": {},
   "outputs": [],
   "source": [
    "# Derivative function\n",
    "def deriv(f,t,param): # return derivatives of the array f[r,r',phi]\n",
    "    # Unpack parameters\n",
    "    mu_deriv = param[0]\n",
    "    ang_mom_deriv = param[1]\n",
    "    gamma_g_deriv = param[2]\n",
    "    \n",
    "    # Function values:\n",
    "    r = 0. #FIX\n",
    "    drdt = 0. #FIX\n",
    "    phi = 0. #FIX\n",
    "    \n",
    "    \n",
    "    # Derivative definitions:\n",
    "    drdt = 0. #FIX\n",
    "    d2rdt2 = 0. #FIX\n",
    "    dphidt = 0. #FIX\n",
    "    \n",
    "    return [drdt, d2rdt2, dphidt]\n",
    "\n"
   ]
  },
  {
   "cell_type": "code",
   "execution_count": null,
   "metadata": {},
   "outputs": [],
   "source": [
    "# Integration of equations of motion\n",
    "time = 0. #FIX\n",
    "f_init = 0. #FIX\n",
    "param = 0. #FIX\n",
    "f_solun = odeint(deriv, f_init, time,args=(param,))\n",
    "\n"
   ]
  },
  {
   "cell_type": "markdown",
   "metadata": {},
   "source": [
    "#### Exercise 8.3 \n",
    "\n",
    "Plot your results. Include plots of $r$, $\\dot{r}$, and $\\phi$ all as a function of time.  Be sure to label your plots and your axes.  ***Explain below why each of your plots displays the expected behavior.***\n",
    "(double-click to enter text)   \n",
    "   /  \n",
    "   /  \n",
    "   /  \n",
    "   /  \n",
    "   /  \n",
    "   /  \n",
    "   /  \n",
    "   /  \n",
    "   /  \n",
    "   / \n",
    "   \n",
    "*Discuss any unexpected results with an instructor before moving on.*\n"
   ]
  },
  {
   "cell_type": "code",
   "execution_count": null,
   "metadata": {},
   "outputs": [],
   "source": [
    "# Plots go here:\n",
    "\n",
    "\n"
   ]
  },
  {
   "cell_type": "markdown",
   "metadata": {},
   "source": [
    "#### Exercise 8.4 \n",
    "\n",
    "Make a polar plot!\n",
    "\n",
    "Look up some documentation on plotting in polar coordinates with python.  In particular, find examples of `pyplot.polar`, and make a polar plot of the orbital trajectory (i.e. $r(\\phi)$) for the reduced mass about the center of mass.  \n"
   ]
  },
  {
   "cell_type": "code",
   "execution_count": null,
   "metadata": {},
   "outputs": [],
   "source": [
    "# Plots go here:\n",
    "\n",
    "\n"
   ]
  },
  {
   "cell_type": "markdown",
   "metadata": {},
   "source": [
    "## An elliptical orbit\n",
    "\n",
    "#### Exercise 8.5\n",
    "Go through the same set of steps as above in Exercises 8.1 - 8.4 but with a set of initial conditions that will produce an *elliptical* orbit with an eccentricity of 0.8 and a perihelion distance (r$_{min}$) of 2.0.  (You should use the same masses and gravitational constant from Exercise 8.1.) \n",
    "\n",
    "*Hint: You might need to integrate over a larger time interval to obtain a closed orbit than in Exercise 8.2.*\n",
    "\n",
    "*Hint: Remember, there is no need to copy over your deriv function again.*"
   ]
  },
  {
   "cell_type": "code",
   "execution_count": null,
   "metadata": {},
   "outputs": [],
   "source": [
    "# Initial conditions\n",
    "\n"
   ]
  },
  {
   "cell_type": "code",
   "execution_count": null,
   "metadata": {},
   "outputs": [],
   "source": [
    "# Integration of equations of motion \n",
    "\n"
   ]
  },
  {
   "cell_type": "code",
   "execution_count": null,
   "metadata": {},
   "outputs": [],
   "source": [
    "# Plots \n",
    "\n"
   ]
  },
  {
   "cell_type": "markdown",
   "metadata": {},
   "source": [
    "***Explain here why each of your plots above has the \"expected\" behavior.  Be as quantitative as possible:***  \n",
    "(double-click to enter text)   \n",
    "   /  \n",
    "   /  \n",
    "   /  \n",
    "   /  \n",
    "   /  \n",
    "   /  \n",
    "   /  \n",
    "   /  \n",
    "   /  \n",
    "   / "
   ]
  },
  {
   "cell_type": "markdown",
   "metadata": {},
   "source": [
    "### Visualizing two-body orbits\n",
    "#### Exercise 8.6\n",
    "By performing an appropriate coordinate transformation, plot the orbits of **both** masses on the same set of polar axes.\n",
    "\n",
    "*Hint: python polar plot can't handle negative values for r so you'll have to come up with some other way to represent these values."
   ]
  },
  {
   "cell_type": "code",
   "execution_count": null,
   "metadata": {},
   "outputs": [],
   "source": [
    "#Transform and Plot\n",
    "\n"
   ]
  },
  {
   "cell_type": "markdown",
   "metadata": {},
   "source": [
    "#### Exercise 8.7\n",
    "\n",
    "It's much more revlealing to watch the **motion** of the two objects rather than just plotting their trajectories.  To do this, we will need to create a movie.  The cell below will walk you through this process."
   ]
  },
  {
   "cell_type": "code",
   "execution_count": null,
   "metadata": {},
   "outputs": [],
   "source": [
    "%pylab\n",
    "# get rid of inline plotting\n",
    "\n",
    "\n",
    "# This creates an x-y grid for plotting and chooses appropriate x and y limits on your axes.\n",
    "fig=figure()\n",
    "ax = axes(xlim=[-4,16], ylim=[-10,10])\n",
    "grid()\n",
    "\n",
    "# This plots orbital trajectories in the x-y plane\n",
    "\n",
    "# DO THIS!! \n",
    "# Recreate the same plot as above in Exercise 7.6 by \n",
    "# defining r_1, r_2, phi_1 and phi_2, if you haven't done so already.\n",
    "# If you've already defined r_1, r_2, phi_1 and phi_2 then all you \n",
    "# should have to do is to run this cell.\n",
    "\n",
    "# r_1 = \n",
    "# r_2 = \n",
    "# phi_1 = \n",
    "# phi_2 = \n",
    "\n",
    "plt.plot(r_1*cos(phi_1),r_1*sin(phi_1), color='red') #Plots the orbit of mass 1\n",
    "plt.plot(r_2*cos(phi_2),r_2*sin(phi_2), color='blue') #Plots the orbit of mass 2\n",
    "\n",
    "#We need to determine how long to run the movie for (the number of frames, num_frames) \n",
    "#\n",
    "#To do this, first find the period from Kepler's III law (Eq 8.54 with modification)\n",
    "ecc = 0.8\n",
    "period = 2*pi*ang_mom**3/(G_grav*m1*m2)**2*(m1 + m2)/(m1*m2)/(1 - ecc**2)**1.5 \n",
    "\n",
    "time_per_frame = 1.0 #Each frame corresponds to a timestep of 1\n",
    "dstep = max(time)/size(time) #The integrator timestep size\n",
    "steps_per_frame = time_per_frame/dstep  #Determine how many of the integrator steps per frame\n",
    "num_frames = int(period/time_per_frame)\n",
    "\n",
    "# initialize plotting of the positions of m1 and m2\n",
    "# also plot the position of the center of mass\n",
    "m1_position,= ax.plot([],[], 'ro', ms=6)\n",
    "m2_position,= ax.plot([],[], 'bo', ms=6)\n",
    "com_position = ax.plot(0,0, 'g*', ms=10)\n",
    "\n",
    "# FuncAnimation requires an initialization function.  This just\n",
    "# lets FuncAnimation know that this line reference is the one to use\n",
    "# The function does no plotting since set_data is empty.\n",
    "def init():\n",
    "    m1_position.set_data([], [])\n",
    "    m2_position.set_data([], [])\n",
    "    return m1_position, m2_position\n",
    "\n",
    "# function used in the FuncAnimation\n",
    "def animate(i):\n",
    "    # This makes the plot, by moving data into lines's set_data method\n",
    "    \n",
    "    j=i*steps_per_frame\n",
    "    \n",
    "    m1_position.set_data(r_1[j]*cos(phi_1[j]),r_1[j]*sin(phi_1[j])) \n",
    "    m2_position.set_data(r_2[j]*cos(phi_2[j]),r_2[j]*sin(phi_2[j])) \n",
    "    \n",
    "    return m1_position, m2_position\n",
    "\n",
    "# for blit True, plot only changes from previous plot to speed up plot calls\n",
    "# blit must be False on osx (changing the backend will also work, but this is easier)\n",
    "# use non-inline plots for animation on osx\n",
    "anim= animation.FuncAnimation(fig, animate, init_func=init, frames=num_frames, blit=False)\n"
   ]
  },
  {
   "cell_type": "markdown",
   "metadata": {},
   "source": [
    "## Hyperbolic Orbits\n",
    "### Exercise 8.8\n",
    "Repeat your work from exercise 8.5 -- 8.6 to solve for and plot a hyperbolic orbit with an eccentricity of 1.2 (and all the other parameters the same) for 0 < t < 10. "
   ]
  },
  {
   "cell_type": "code",
   "execution_count": null,
   "metadata": {},
   "outputs": [],
   "source": [
    "# bring back inline plotting\n",
    "%pylab inline\n",
    "\n",
    "# Initial conditions\n",
    "\n",
    "\n",
    "# Integration of equations of motion \n",
    "\n",
    "\n",
    "# Plots of r vs t, v_r vs t, phi vs t and the orbit (in a polar plot)\n",
    "\n",
    "\n",
    "#Transform and Plot\n",
    "\n"
   ]
  },
  {
   "cell_type": "markdown",
   "metadata": {},
   "source": [
    "## Non-Keplerian Orbits:\n",
    "\n",
    "A gravitational force law that deviates from $~1/r^{2}$ will not produce Keplerian orbits (defined here as orbits  \n",
    "that trace the shape of a conic section).  It is also impossible to solve analytically, so it must be approached computationally.\n",
    "\n",
    "#### Exercise 8.9\n",
    "To explore the shapes of a non-Keplerian orbit, you will complete the same set of steps that you have already completed in this lab, but for a force law that scales as $1/r^{5/2}$.  \n",
    "\n",
    "Use the set of initial conditions given in the cell below, and then:  \n",
    "(a) Define the correct derivative function for this force law.  Call it something different, like deriv_nonkep.\n",
    "(b) Plot $r(t)$, $dr/dt(t)$, and $\\phi(t)$.  \n",
    "(c) Plot the orbital trajectory of the reduced mass on a set of polar axes. \n",
    "\n",
    "Perform your integration from t=0 to t=40 with 100,000 time steps, and check your final plots with an instructor."
   ]
  },
  {
   "cell_type": "code",
   "execution_count": null,
   "metadata": {},
   "outputs": [],
   "source": [
    " %pylab inline\n",
    "# bring back inline plotting\n",
    "\n",
    "# Initial conditions and constants\n",
    "\n",
    "G_grav = 1.\n",
    "mu = 1.\n",
    "gamma_g = 1.\n",
    "ang_mom = 1.\n",
    "phi0 = 0.\n",
    "r0 = 0.6671\n",
    "drdt0 = 0. \n"
   ]
  },
  {
   "cell_type": "code",
   "execution_count": null,
   "metadata": {},
   "outputs": [],
   "source": [
    "# Define derivatives and integrate equations of motion\n",
    "\n",
    "\n"
   ]
  },
  {
   "cell_type": "code",
   "execution_count": null,
   "metadata": {},
   "outputs": [],
   "source": [
    "# Plots\n",
    "\n"
   ]
  },
  {
   "cell_type": "markdown",
   "metadata": {},
   "source": [
    "## Check-out\n",
    "#### Exercise 8.10\n",
    "\n",
    "Briefly summarize in the cell below the ideas in today's lab."
   ]
  },
  {
   "cell_type": "code",
   "execution_count": null,
   "metadata": {
    "collapsed": true
   },
   "outputs": [],
   "source": []
  },
  {
   "cell_type": "markdown",
   "metadata": {},
   "source": [
    "## Challenge Problems\n",
    "\n",
    "Complete the following exercises if you have extra time once you have completed the rest of the lab.\n",
    "\n",
    "* Confirm conservation of mechanical energy for your Keplerian orbits (both circular and eccentric)\n",
    "* Play around with some other configurations of Keplerian orbits.  Try systematically changing both the masses and the orbital eccentricity.  \n",
    "* Confirm Kepler's 3rd law for your Keplerian orbits\n"
   ]
  },
  {
   "cell_type": "code",
   "execution_count": null,
   "metadata": {
    "collapsed": true
   },
   "outputs": [],
   "source": []
  }
 ],
 "metadata": {
  "kernelspec": {
   "display_name": "Python 3",
   "language": "python",
   "name": "python3"
  },
  "language_info": {
   "codemirror_mode": {
    "name": "ipython",
    "version": 3
   },
   "file_extension": ".py",
   "mimetype": "text/x-python",
   "name": "python",
   "nbconvert_exporter": "python",
   "pygments_lexer": "ipython3",
   "version": "3.6.3"
  }
 },
 "nbformat": 4,
 "nbformat_minor": 1
}
